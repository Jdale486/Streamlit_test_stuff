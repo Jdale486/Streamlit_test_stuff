{
 "cells": [
  {
   "cell_type": "code",
   "execution_count": 1,
   "metadata": {},
   "outputs": [],
   "source": [
    "##import packages\n",
    "\n",
    "import requests\n",
    "import json\n",
    "import pandas as pd\n",
    "import numpy as np\n",
    "from decimal import Decimal\n",
    "import itertools as it\n",
    "import plotly.express as px\n",
    "import plotly.graph_objects as go\n",
    "import orjson\n"
   ]
  },
  {
   "cell_type": "code",
   "execution_count": 31,
   "metadata": {},
   "outputs": [
    {
     "name": "stdout",
     "output_type": "stream",
     "text": [
      "26\n",
      "25\n"
     ]
    }
   ],
   "source": [
    "##Request fixtures from FPL API\n",
    "\n",
    "url = f\"https://fantasy.premierleague.com/api/fixtures/\"\n",
    "response = requests.get(url)\n",
    "json_data = response.json()\n",
    "\n",
    "Fixtures_Dim = json_data\n",
    "\n",
    "Fixtures_Dim = pd.json_normalize(Fixtures_Dim)\n",
    "\n",
    "\n",
    "Fixtures_Dim_Future=Fixtures_Dim[Fixtures_Dim['finished']==False]\n",
    "\n",
    "### Used as variable to return only the data for completed gameweeks\n",
    "\n",
    "#UpcomingWeek = Fixtures_Dim_Future['event'].min().astype(int)\n",
    "#PrevWeek = UpcomingWeek\n",
    "\n",
    "UpcomingWeek = 26\n",
    "PrevWeek = 25\n",
    "\n",
    "### Variable for number of gameweeks to go back to calculate averages from\n",
    "\n",
    "NoTrailingWeeks = 5\n",
    "\n",
    "NoForecastWeeks = 4\n",
    "\n",
    "TeamID = 1769272\n",
    "\n",
    "print(UpcomingWeek)\n",
    "print(PrevWeek)\n"
   ]
  },
  {
   "cell_type": "code",
   "execution_count": 32,
   "metadata": {},
   "outputs": [],
   "source": [
    "###Request Team Data from FPL API\n",
    "\n",
    "url = f\"https://fantasy.premierleague.com/api/bootstrap-static\"\n",
    "response = requests.get(url)\n",
    "json_data = response.json()\n",
    "\n",
    "teams_dim = json_data['teams']\n",
    "\n",
    "Teams_Dim = pd.json_normalize(teams_dim)\n",
    "\n"
   ]
  },
  {
   "cell_type": "code",
   "execution_count": 47,
   "metadata": {},
   "outputs": [
    {
     "data": {
      "text/html": [
       "<div>\n",
       "<style scoped>\n",
       "    .dataframe tbody tr th:only-of-type {\n",
       "        vertical-align: middle;\n",
       "    }\n",
       "\n",
       "    .dataframe tbody tr th {\n",
       "        vertical-align: top;\n",
       "    }\n",
       "\n",
       "    .dataframe thead th {\n",
       "        text-align: right;\n",
       "    }\n",
       "</style>\n",
       "<table border=\"1\" class=\"dataframe\">\n",
       "  <thead>\n",
       "    <tr style=\"text-align: right;\">\n",
       "      <th></th>\n",
       "      <th>element</th>\n",
       "      <th>position</th>\n",
       "      <th>DT_ID</th>\n",
       "    </tr>\n",
       "  </thead>\n",
       "  <tbody>\n",
       "    <tr>\n",
       "      <th>0</th>\n",
       "      <td>15</td>\n",
       "      <td>1</td>\n",
       "      <td>321372</td>\n",
       "    </tr>\n",
       "    <tr>\n",
       "      <th>1</th>\n",
       "      <td>255</td>\n",
       "      <td>2</td>\n",
       "      <td>321372</td>\n",
       "    </tr>\n",
       "    <tr>\n",
       "      <th>2</th>\n",
       "      <td>211</td>\n",
       "      <td>3</td>\n",
       "      <td>321372</td>\n",
       "    </tr>\n",
       "    <tr>\n",
       "      <th>3</th>\n",
       "      <td>85</td>\n",
       "      <td>4</td>\n",
       "      <td>321372</td>\n",
       "    </tr>\n",
       "    <tr>\n",
       "      <th>4</th>\n",
       "      <td>53</td>\n",
       "      <td>5</td>\n",
       "      <td>321372</td>\n",
       "    </tr>\n",
       "    <tr>\n",
       "      <th>5</th>\n",
       "      <td>177</td>\n",
       "      <td>6</td>\n",
       "      <td>321372</td>\n",
       "    </tr>\n",
       "    <tr>\n",
       "      <th>6</th>\n",
       "      <td>78</td>\n",
       "      <td>7</td>\n",
       "      <td>321372</td>\n",
       "    </tr>\n",
       "    <tr>\n",
       "      <th>7</th>\n",
       "      <td>328</td>\n",
       "      <td>8</td>\n",
       "      <td>321372</td>\n",
       "    </tr>\n",
       "    <tr>\n",
       "      <th>8</th>\n",
       "      <td>57</td>\n",
       "      <td>9</td>\n",
       "      <td>321372</td>\n",
       "    </tr>\n",
       "    <tr>\n",
       "      <th>9</th>\n",
       "      <td>447</td>\n",
       "      <td>10</td>\n",
       "      <td>321372</td>\n",
       "    </tr>\n",
       "    <tr>\n",
       "      <th>10</th>\n",
       "      <td>218</td>\n",
       "      <td>11</td>\n",
       "      <td>321372</td>\n",
       "    </tr>\n",
       "    <tr>\n",
       "      <th>11</th>\n",
       "      <td>443</td>\n",
       "      <td>12</td>\n",
       "      <td>321372</td>\n",
       "    </tr>\n",
       "    <tr>\n",
       "      <th>12</th>\n",
       "      <td>497</td>\n",
       "      <td>13</td>\n",
       "      <td>321372</td>\n",
       "    </tr>\n",
       "    <tr>\n",
       "      <th>13</th>\n",
       "      <td>415</td>\n",
       "      <td>14</td>\n",
       "      <td>321372</td>\n",
       "    </tr>\n",
       "    <tr>\n",
       "      <th>14</th>\n",
       "      <td>582</td>\n",
       "      <td>15</td>\n",
       "      <td>321372</td>\n",
       "    </tr>\n",
       "    <tr>\n",
       "      <th>15</th>\n",
       "      <td>47</td>\n",
       "      <td>1</td>\n",
       "      <td>402508</td>\n",
       "    </tr>\n",
       "    <tr>\n",
       "      <th>16</th>\n",
       "      <td>335</td>\n",
       "      <td>2</td>\n",
       "      <td>402508</td>\n",
       "    </tr>\n",
       "    <tr>\n",
       "      <th>17</th>\n",
       "      <td>388</td>\n",
       "      <td>3</td>\n",
       "      <td>402508</td>\n",
       "    </tr>\n",
       "    <tr>\n",
       "      <th>18</th>\n",
       "      <td>163</td>\n",
       "      <td>4</td>\n",
       "      <td>402508</td>\n",
       "    </tr>\n",
       "    <tr>\n",
       "      <th>19</th>\n",
       "      <td>574</td>\n",
       "      <td>5</td>\n",
       "      <td>402508</td>\n",
       "    </tr>\n",
       "    <tr>\n",
       "      <th>20</th>\n",
       "      <td>345</td>\n",
       "      <td>6</td>\n",
       "      <td>402508</td>\n",
       "    </tr>\n",
       "    <tr>\n",
       "      <th>21</th>\n",
       "      <td>136</td>\n",
       "      <td>7</td>\n",
       "      <td>402508</td>\n",
       "    </tr>\n",
       "    <tr>\n",
       "      <th>22</th>\n",
       "      <td>182</td>\n",
       "      <td>8</td>\n",
       "      <td>402508</td>\n",
       "    </tr>\n",
       "    <tr>\n",
       "      <th>23</th>\n",
       "      <td>560</td>\n",
       "      <td>9</td>\n",
       "      <td>402508</td>\n",
       "    </tr>\n",
       "    <tr>\n",
       "      <th>24</th>\n",
       "      <td>541</td>\n",
       "      <td>10</td>\n",
       "      <td>402508</td>\n",
       "    </tr>\n",
       "    <tr>\n",
       "      <th>25</th>\n",
       "      <td>252</td>\n",
       "      <td>11</td>\n",
       "      <td>402508</td>\n",
       "    </tr>\n",
       "    <tr>\n",
       "      <th>26</th>\n",
       "      <td>185</td>\n",
       "      <td>12</td>\n",
       "      <td>402508</td>\n",
       "    </tr>\n",
       "    <tr>\n",
       "      <th>27</th>\n",
       "      <td>27</td>\n",
       "      <td>13</td>\n",
       "      <td>402508</td>\n",
       "    </tr>\n",
       "    <tr>\n",
       "      <th>28</th>\n",
       "      <td>17</td>\n",
       "      <td>14</td>\n",
       "      <td>402508</td>\n",
       "    </tr>\n",
       "    <tr>\n",
       "      <th>29</th>\n",
       "      <td>159</td>\n",
       "      <td>15</td>\n",
       "      <td>402508</td>\n",
       "    </tr>\n",
       "    <tr>\n",
       "      <th>30</th>\n",
       "      <td>235</td>\n",
       "      <td>1</td>\n",
       "      <td>314122</td>\n",
       "    </tr>\n",
       "  </tbody>\n",
       "</table>\n",
       "</div>"
      ],
      "text/plain": [
       "    element  position   DT_ID\n",
       "0        15         1  321372\n",
       "1       255         2  321372\n",
       "2       211         3  321372\n",
       "3        85         4  321372\n",
       "4        53         5  321372\n",
       "5       177         6  321372\n",
       "6        78         7  321372\n",
       "7       328         8  321372\n",
       "8        57         9  321372\n",
       "9       447        10  321372\n",
       "10      218        11  321372\n",
       "11      443        12  321372\n",
       "12      497        13  321372\n",
       "13      415        14  321372\n",
       "14      582        15  321372\n",
       "15       47         1  402508\n",
       "16      335         2  402508\n",
       "17      388         3  402508\n",
       "18      163         4  402508\n",
       "19      574         5  402508\n",
       "20      345         6  402508\n",
       "21      136         7  402508\n",
       "22      182         8  402508\n",
       "23      560         9  402508\n",
       "24      541        10  402508\n",
       "25      252        11  402508\n",
       "26      185        12  402508\n",
       "27       27        13  402508\n",
       "28       17        14  402508\n",
       "29      159        15  402508\n",
       "30      235         1  314122"
      ]
     },
     "execution_count": 47,
     "metadata": {},
     "output_type": "execute_result"
    }
   ],
   "source": [
    "###Request Most Recent DTs Data from API\n",
    "\n",
    "DraftTeams = [321372,402508,314122,421290,421232,417608,421373,418934]\n",
    "\n",
    "DTDataframe = []\n",
    "\n",
    "for DT in DraftTeams:\n",
    "\n",
    "    url = f\"https://draft.premierleague.com/api/entry/{DT}/event/{PrevWeek}\"\n",
    "    response = requests.get(url)\n",
    "    json_data = response.json()\n",
    "    for DTItem in json_data['picks']:\n",
    "        elementid=DTItem['element']\n",
    "        position=DTItem['position']\n",
    "        \n",
    "        DTDataframe.append({\n",
    "            'element': elementid,\n",
    "            'position': position,\n",
    "            'DT_ID': DT\n",
    "            })\n",
    "        DTDataframeAppend = pd.DataFrame(DTDataframe)\n",
    "\n",
    "DTDataframeAppend.head(31)\n"
   ]
  },
  {
   "cell_type": "code",
   "execution_count": 34,
   "metadata": {},
   "outputs": [],
   "source": [
    "###Duplicates of Fixtures for Home and Away, so that this can be merged with elements\n",
    "\n",
    "Fixtures_Away1 = Fixtures_Dim_Future\n",
    "Fixtures_Away1.head()\n",
    "\n",
    "Fixtures_Home1 = Fixtures_Dim_Future\n",
    "Fixtures_Home1.head()\n",
    "\n",
    "FixturesConcat = pd.concat([Fixtures_Away1,Fixtures_Home1], keys=[\"Away\", \"Home\"])\n",
    "\n",
    "FixturesConcat.reset_index(inplace=True)\n",
    "\n",
    "FixturesConcat['TeamID'] = FixturesConcat.apply(\n",
    "    lambda row: row['team_a'] if row['level_0'] == 'Away' else row['team_h'], \n",
    "    axis=1\n",
    ")\n",
    "\n",
    "FixturesConcat['OppTeam2'] = FixturesConcat.apply(\n",
    "    lambda row: row['team_a'] if row['level_0'] == 'Home' else row['team_h'], \n",
    "    axis=1\n",
    ")"
   ]
  },
  {
   "cell_type": "code",
   "execution_count": 35,
   "metadata": {},
   "outputs": [
    {
     "name": "stdout",
     "output_type": "stream",
     "text": [
      "https://fantasy.premierleague.com/api/event/1/live/\n",
      "https://fantasy.premierleague.com/api/event/2/live/\n",
      "https://fantasy.premierleague.com/api/event/3/live/\n",
      "https://fantasy.premierleague.com/api/event/4/live/\n",
      "https://fantasy.premierleague.com/api/event/5/live/\n",
      "https://fantasy.premierleague.com/api/event/6/live/\n",
      "https://fantasy.premierleague.com/api/event/7/live/\n",
      "https://fantasy.premierleague.com/api/event/8/live/\n",
      "https://fantasy.premierleague.com/api/event/9/live/\n",
      "https://fantasy.premierleague.com/api/event/10/live/\n",
      "https://fantasy.premierleague.com/api/event/11/live/\n",
      "https://fantasy.premierleague.com/api/event/12/live/\n",
      "https://fantasy.premierleague.com/api/event/13/live/\n",
      "https://fantasy.premierleague.com/api/event/14/live/\n",
      "https://fantasy.premierleague.com/api/event/15/live/\n",
      "https://fantasy.premierleague.com/api/event/16/live/\n",
      "https://fantasy.premierleague.com/api/event/17/live/\n",
      "https://fantasy.premierleague.com/api/event/18/live/\n",
      "https://fantasy.premierleague.com/api/event/19/live/\n",
      "https://fantasy.premierleague.com/api/event/20/live/\n",
      "https://fantasy.premierleague.com/api/event/21/live/\n",
      "https://fantasy.premierleague.com/api/event/22/live/\n",
      "https://fantasy.premierleague.com/api/event/23/live/\n",
      "https://fantasy.premierleague.com/api/event/24/live/\n",
      "https://fantasy.premierleague.com/api/event/25/live/\n"
     ]
    },
    {
     "data": {
      "text/html": [
       "<div>\n",
       "<style scoped>\n",
       "    .dataframe tbody tr th:only-of-type {\n",
       "        vertical-align: middle;\n",
       "    }\n",
       "\n",
       "    .dataframe tbody tr th {\n",
       "        vertical-align: top;\n",
       "    }\n",
       "\n",
       "    .dataframe thead th {\n",
       "        text-align: right;\n",
       "    }\n",
       "</style>\n",
       "<table border=\"1\" class=\"dataframe\">\n",
       "  <thead>\n",
       "    <tr style=\"text-align: right;\">\n",
       "      <th></th>\n",
       "      <th>playerid</th>\n",
       "      <th>minutes_x</th>\n",
       "      <th>goals_scored</th>\n",
       "      <th>assists</th>\n",
       "      <th>clean_sheets</th>\n",
       "      <th>goals_conceded</th>\n",
       "      <th>threat</th>\n",
       "      <th>expected_goals</th>\n",
       "      <th>expected_assists</th>\n",
       "      <th>expected_goal_involvements</th>\n",
       "      <th>...</th>\n",
       "      <th>provisional_start_time</th>\n",
       "      <th>started</th>\n",
       "      <th>team_a</th>\n",
       "      <th>team_a_score</th>\n",
       "      <th>team_h</th>\n",
       "      <th>team_h_score</th>\n",
       "      <th>stats</th>\n",
       "      <th>team_h_difficulty</th>\n",
       "      <th>team_a_difficulty</th>\n",
       "      <th>pulse_id</th>\n",
       "    </tr>\n",
       "  </thead>\n",
       "  <tbody>\n",
       "    <tr>\n",
       "      <th>0</th>\n",
       "      <td>1.0</td>\n",
       "      <td>0.0</td>\n",
       "      <td>0.0</td>\n",
       "      <td>0.0</td>\n",
       "      <td>0.0</td>\n",
       "      <td>0.0</td>\n",
       "      <td>0.0</td>\n",
       "      <td>0.00</td>\n",
       "      <td>0.00</td>\n",
       "      <td>0.00</td>\n",
       "      <td>...</td>\n",
       "      <td>False</td>\n",
       "      <td>True</td>\n",
       "      <td>20.0</td>\n",
       "      <td>0.0</td>\n",
       "      <td>1.0</td>\n",
       "      <td>2.0</td>\n",
       "      <td>[{'identifier': 'goals_scored', 'a': [], 'h': ...</td>\n",
       "      <td>2.0</td>\n",
       "      <td>4.0</td>\n",
       "      <td>115828.0</td>\n",
       "    </tr>\n",
       "    <tr>\n",
       "      <th>1</th>\n",
       "      <td>2.0</td>\n",
       "      <td>5.0</td>\n",
       "      <td>0.0</td>\n",
       "      <td>0.0</td>\n",
       "      <td>0.0</td>\n",
       "      <td>0.0</td>\n",
       "      <td>0.0</td>\n",
       "      <td>0.00</td>\n",
       "      <td>0.00</td>\n",
       "      <td>0.00</td>\n",
       "      <td>...</td>\n",
       "      <td>False</td>\n",
       "      <td>True</td>\n",
       "      <td>20.0</td>\n",
       "      <td>0.0</td>\n",
       "      <td>1.0</td>\n",
       "      <td>2.0</td>\n",
       "      <td>[{'identifier': 'goals_scored', 'a': [], 'h': ...</td>\n",
       "      <td>2.0</td>\n",
       "      <td>4.0</td>\n",
       "      <td>115828.0</td>\n",
       "    </tr>\n",
       "    <tr>\n",
       "      <th>2</th>\n",
       "      <td>3.0</td>\n",
       "      <td>90.0</td>\n",
       "      <td>0.0</td>\n",
       "      <td>0.0</td>\n",
       "      <td>1.0</td>\n",
       "      <td>0.0</td>\n",
       "      <td>8.0</td>\n",
       "      <td>0.12</td>\n",
       "      <td>0.02</td>\n",
       "      <td>0.14</td>\n",
       "      <td>...</td>\n",
       "      <td>False</td>\n",
       "      <td>True</td>\n",
       "      <td>20.0</td>\n",
       "      <td>0.0</td>\n",
       "      <td>1.0</td>\n",
       "      <td>2.0</td>\n",
       "      <td>[{'identifier': 'goals_scored', 'a': [], 'h': ...</td>\n",
       "      <td>2.0</td>\n",
       "      <td>4.0</td>\n",
       "      <td>115828.0</td>\n",
       "    </tr>\n",
       "    <tr>\n",
       "      <th>3</th>\n",
       "      <td>4.0</td>\n",
       "      <td>90.0</td>\n",
       "      <td>1.0</td>\n",
       "      <td>1.0</td>\n",
       "      <td>1.0</td>\n",
       "      <td>0.0</td>\n",
       "      <td>46.0</td>\n",
       "      <td>0.45</td>\n",
       "      <td>0.04</td>\n",
       "      <td>0.49</td>\n",
       "      <td>...</td>\n",
       "      <td>False</td>\n",
       "      <td>True</td>\n",
       "      <td>20.0</td>\n",
       "      <td>0.0</td>\n",
       "      <td>1.0</td>\n",
       "      <td>2.0</td>\n",
       "      <td>[{'identifier': 'goals_scored', 'a': [], 'h': ...</td>\n",
       "      <td>2.0</td>\n",
       "      <td>4.0</td>\n",
       "      <td>115828.0</td>\n",
       "    </tr>\n",
       "    <tr>\n",
       "      <th>4</th>\n",
       "      <td>5.0</td>\n",
       "      <td>0.0</td>\n",
       "      <td>0.0</td>\n",
       "      <td>0.0</td>\n",
       "      <td>0.0</td>\n",
       "      <td>0.0</td>\n",
       "      <td>0.0</td>\n",
       "      <td>0.00</td>\n",
       "      <td>0.00</td>\n",
       "      <td>0.00</td>\n",
       "      <td>...</td>\n",
       "      <td>False</td>\n",
       "      <td>True</td>\n",
       "      <td>20.0</td>\n",
       "      <td>0.0</td>\n",
       "      <td>1.0</td>\n",
       "      <td>2.0</td>\n",
       "      <td>[{'identifier': 'goals_scored', 'a': [], 'h': ...</td>\n",
       "      <td>2.0</td>\n",
       "      <td>4.0</td>\n",
       "      <td>115828.0</td>\n",
       "    </tr>\n",
       "  </tbody>\n",
       "</table>\n",
       "<p>5 rows × 29 columns</p>\n",
       "</div>"
      ],
      "text/plain": [
       "   playerid  minutes_x  goals_scored  assists  clean_sheets  goals_conceded   \n",
       "0       1.0        0.0           0.0      0.0           0.0             0.0  \\\n",
       "1       2.0        5.0           0.0      0.0           0.0             0.0   \n",
       "2       3.0       90.0           0.0      0.0           1.0             0.0   \n",
       "3       4.0       90.0           1.0      1.0           1.0             0.0   \n",
       "4       5.0        0.0           0.0      0.0           0.0             0.0   \n",
       "\n",
       "  threat expected_goals expected_assists expected_goal_involvements  ...   \n",
       "0    0.0           0.00             0.00                       0.00  ...  \\\n",
       "1    0.0           0.00             0.00                       0.00  ...   \n",
       "2    8.0           0.12             0.02                       0.14  ...   \n",
       "3   46.0           0.45             0.04                       0.49  ...   \n",
       "4    0.0           0.00             0.00                       0.00  ...   \n",
       "\n",
       "  provisional_start_time  started  team_a  team_a_score team_h team_h_score   \n",
       "0                  False     True    20.0           0.0    1.0          2.0  \\\n",
       "1                  False     True    20.0           0.0    1.0          2.0   \n",
       "2                  False     True    20.0           0.0    1.0          2.0   \n",
       "3                  False     True    20.0           0.0    1.0          2.0   \n",
       "4                  False     True    20.0           0.0    1.0          2.0   \n",
       "\n",
       "                                               stats team_h_difficulty   \n",
       "0  [{'identifier': 'goals_scored', 'a': [], 'h': ...               2.0  \\\n",
       "1  [{'identifier': 'goals_scored', 'a': [], 'h': ...               2.0   \n",
       "2  [{'identifier': 'goals_scored', 'a': [], 'h': ...               2.0   \n",
       "3  [{'identifier': 'goals_scored', 'a': [], 'h': ...               2.0   \n",
       "4  [{'identifier': 'goals_scored', 'a': [], 'h': ...               2.0   \n",
       "\n",
       "   team_a_difficulty  pulse_id  \n",
       "0                4.0  115828.0  \n",
       "1                4.0  115828.0  \n",
       "2                4.0  115828.0  \n",
       "3                4.0  115828.0  \n",
       "4                4.0  115828.0  \n",
       "\n",
       "[5 rows x 29 columns]"
      ]
     },
     "execution_count": 35,
     "metadata": {},
     "output_type": "execute_result"
    }
   ],
   "source": [
    "### Gameweek elements data from FPL API\n",
    "\n",
    "player_data = []\n",
    "\n",
    "for gw1 in range(1,UpcomingWeek):\n",
    "    url = f\"https://fantasy.premierleague.com/api/event/{gw1}/live/\"\n",
    "    \n",
    "    response = requests.get(url)\n",
    "    json_data = response.json()\n",
    "    print(url)\n",
    "\n",
    "    for gw in json_data['elements']:\n",
    "        #i1 = gw['id']\n",
    "        playerid=gw['id']\n",
    "        minutes=gw['stats']['minutes']\n",
    "        goals_scored=gw['stats']['goals_scored']\n",
    "        assists=gw['stats']['assists']\n",
    "        clean_sheets=gw['stats']['clean_sheets']\n",
    "        goals_conceded=gw['stats']['goals_conceded']\n",
    "        own_goals=gw['stats']['own_goals']\n",
    "        penalties_saved=gw['stats']['penalties_saved']\n",
    "        penalties_missed=gw['stats']['penalties_missed']\n",
    "        yellow_cards=gw['stats']['yellow_cards']\n",
    "        red_cards=gw['stats']['red_cards']\n",
    "        saves=gw['stats']['saves']\n",
    "        bonus=gw['stats']['bonus']\n",
    "        bps=gw['stats']['bps']\n",
    "        influence=gw['stats']['influence']\n",
    "        creativity=gw['stats']['creativity']\n",
    "        threat=gw['stats']['threat']\n",
    "        ict_index=gw['stats']['ict_index']\n",
    "        starts=gw['stats']['starts']\n",
    "        expected_goals=gw['stats']['expected_goals']\n",
    "        expected_assists=gw['stats']['expected_assists']\n",
    "        expected_goal_involvements=gw['stats']['expected_goal_involvements']\n",
    "        expected_goals_conceded=gw['stats']['expected_goals_conceded']\n",
    "        total_points=gw['stats']['total_points']\n",
    "        if gw['explain']: \n",
    "            fixtureid = gw['explain'][0]['fixture'] \n",
    "        else: \n",
    "            fixtureid = None\n",
    "\n",
    "        player_data.append({\n",
    "            'playerid': playerid,\n",
    "            'minutes': minutes,\n",
    "            'goals_scored': goals_scored,\n",
    "            'assists': assists,\n",
    "            'clean_sheets': clean_sheets,\n",
    "            'goals_conceded': goals_conceded,\n",
    "            'threat': threat,\n",
    "            'expected_goals': expected_goals,\n",
    "            'expected_assists': expected_assists,\n",
    "            'expected_goal_involvements': expected_goal_involvements,\n",
    "            'expected_goals_conceded': expected_goals_conceded,\n",
    "            'fixtureid': fixtureid  \n",
    "\n",
    "\n",
    "            })\n",
    "\n",
    "    GWElementsDF = pd.DataFrame(player_data)\n",
    "GWElementsDF.head(5)\n",
    "\n",
    "GWElementsDF1 = pd.merge(GWElementsDF, Fixtures_Dim,left_on='fixtureid', right_on='id', how='outer')\n",
    "\n",
    "GWElementsDF1.to_csv('FPL_Event_By_Week.csv')\n",
    "GWElementsDF1.head()\n"
   ]
  },
  {
   "cell_type": "code",
   "execution_count": 36,
   "metadata": {},
   "outputs": [],
   "source": [
    "###Standard Element Data from FPL API\n",
    "\n",
    "url = f\"https://fantasy.premierleague.com/api/bootstrap-static\"\n",
    "response = requests.get(url)\n",
    "json_data = response.json()\n",
    "\n",
    "elements_dim = json_data['elements']\n",
    "\n",
    "Elements_Dim1 = pd.json_normalize(elements_dim)\n",
    "\n",
    "Elements_Dim1.to_csv('elementsdim.csv')\n",
    "\n",
    "Elements_Dim1 = pd.merge(GWElementsDF1, Elements_Dim1,left_on='playerid', right_on='id', how='outer',suffixes=('.gw', '.info'))\n",
    "\n",
    "Elements_Dim1['ExcludeDef'] = Elements_Dim1.apply(\n",
    "    lambda row: 'Y' if (row['element_type'] == '1' or row['element_type'] == '2') and row['minutes_x'] > 59 else 'N', \n",
    "    axis=1\n",
    ")\n",
    "\n",
    "Elements_Dim1.to_csv('elements4wk.csv')"
   ]
  },
  {
   "cell_type": "code",
   "execution_count": 37,
   "metadata": {},
   "outputs": [],
   "source": [
    "###Arbitrary team weightings calculated based on average of last season's odds\n",
    "\n",
    "TeamWeightings = {\n",
    "    \"Weighting\": [\n",
    "        1.699153895, 1.68275948, 1.639154108, 1.626396476, 1.605876872, 1.542304678,\n",
    "        1.526424188, 1.50219836, 1.499125082, 1.489893392, 1.44492154, 1.424635514,\n",
    "        1.365324148, 1.288771283, 1.266010528, 1.251813146, 1.18226904, 1.7, 1.7, 1.7\n",
    "    ],\n",
    "    \"Teams.id\": [\n",
    "        3, 7, 16, 20, 4, 9, 8, 2, 15, 19, 5, 14, 6, 12, 18, 1, 13, 10, 11, 17\n",
    "    ],\n",
    "    \"Teams.name\": [\n",
    "        \"Bournemouth\", \"Crystal Palace\", \"Nott'm Forest\", \"Wolves\", \"Brentford\", \"Fulham\",\n",
    "        \"Everton\", \"Aston Villa\", \"Newcastle\", \"West Ham\", \"Brighton\", \"Man Utd\", \"Chelsea\",\n",
    "        \"Liverpool\", \"Spurs\", \"Arsenal\", \"Man City\", \"Ipswich\", \"Leicester\", \"Southampton\"\n",
    "    ]\n",
    "}\n",
    "\n",
    "TeamWeightings = pd.DataFrame(TeamWeightings)\n",
    "\n",
    "Elements_Dim1['OppTeam'] = Elements_Dim1.apply(lambda row: row['team_h'] if row['team_h'] == row['team'] else row['team_a'], axis=1)\n",
    "\n",
    "Elements_Dim2 = pd.merge(Elements_Dim1, TeamWeightings,left_on='OppTeam', right_on='Teams.id', how='outer')\n",
    "\n",
    "Elements_Dim2['XGC_Weighted'] = Elements_Dim2['Weighting'].astype(float)*Elements_Dim2['expected_goals_conceded.gw'].astype(float)\n",
    "\n",
    "Elements_Dim2['XGI_Weighted'] = Elements_Dim2['expected_goal_involvements.gw'].astype(float)/Elements_Dim2['Weighting'].astype(float)\n",
    "\n"
   ]
  },
  {
   "cell_type": "code",
   "execution_count": 38,
   "metadata": {},
   "outputs": [],
   "source": [
    "###Filtered to only include the previous 4 weeks' data before it is grouped to return total sum for each team \n",
    "\n",
    "Elements_Dim2Filtered = Elements_Dim2[Elements_Dim2['event']>PrevWeek-NoTrailingWeeks]\n",
    "\n",
    "Elements_Dim2Grouped1 = Elements_Dim2Filtered.groupby(['OppTeam','Teams.name', 'event']).agg(\n",
    "    XGI_Weighted=('XGI_Weighted', 'sum'),\n",
    "    XGC_Weighted=('XGC_Weighted', 'max'),\n",
    "    Minutes=('minutes_x', 'sum')\n",
    ").reset_index()\n",
    "\n",
    "\n",
    "\n",
    "##Average of the above taken for each team\n",
    "Elements_Dim2Grouped2 = Elements_Dim2Grouped1.groupby(['OppTeam','Teams.name']).agg(\n",
    "    XGI_Weighted=('XGI_Weighted', 'mean'),\n",
    "    XGC_Weighted=('XGC_Weighted', 'mean'),\n",
    "    Minutes=('Minutes', 'mean')\n",
    ").reset_index()\n",
    "\n",
    "\n",
    "\n",
    "Elements_Dim2Grouped2.head()\n",
    "\n",
    "Elements_Dim2Grouped2.to_csv('TeamProfiles.csv')"
   ]
  },
  {
   "cell_type": "code",
   "execution_count": 39,
   "metadata": {},
   "outputs": [
    {
     "data": {
      "text/html": [
       "<div>\n",
       "<style scoped>\n",
       "    .dataframe tbody tr th:only-of-type {\n",
       "        vertical-align: middle;\n",
       "    }\n",
       "\n",
       "    .dataframe tbody tr th {\n",
       "        vertical-align: top;\n",
       "    }\n",
       "\n",
       "    .dataframe thead th {\n",
       "        text-align: right;\n",
       "    }\n",
       "</style>\n",
       "<table border=\"1\" class=\"dataframe\">\n",
       "  <thead>\n",
       "    <tr style=\"text-align: right;\">\n",
       "      <th></th>\n",
       "      <th>playerid</th>\n",
       "      <th>web_name</th>\n",
       "      <th>element_type</th>\n",
       "      <th>now_cost</th>\n",
       "      <th>team</th>\n",
       "      <th>minutes_x</th>\n",
       "      <th>expected_goals.gw</th>\n",
       "      <th>expected_assists.gw</th>\n",
       "      <th>expected_goal_involvements.gw</th>\n",
       "      <th>expected_goals_conceded.gw</th>\n",
       "      <th>ExcludeDef</th>\n",
       "    </tr>\n",
       "  </thead>\n",
       "  <tbody>\n",
       "    <tr>\n",
       "      <th>0</th>\n",
       "      <td>1.0</td>\n",
       "      <td>Fábio Vieira</td>\n",
       "      <td>3.0</td>\n",
       "      <td>54.0</td>\n",
       "      <td>1.0</td>\n",
       "      <td>0.0</td>\n",
       "      <td>0.000</td>\n",
       "      <td>0.000</td>\n",
       "      <td>0.000</td>\n",
       "      <td>0.000</td>\n",
       "      <td>N</td>\n",
       "    </tr>\n",
       "    <tr>\n",
       "      <th>1</th>\n",
       "      <td>2.0</td>\n",
       "      <td>G.Jesus</td>\n",
       "      <td>4.0</td>\n",
       "      <td>65.0</td>\n",
       "      <td>1.0</td>\n",
       "      <td>0.0</td>\n",
       "      <td>0.000</td>\n",
       "      <td>0.000</td>\n",
       "      <td>0.000</td>\n",
       "      <td>0.000</td>\n",
       "      <td>N</td>\n",
       "    </tr>\n",
       "    <tr>\n",
       "      <th>2</th>\n",
       "      <td>3.0</td>\n",
       "      <td>Gabriel</td>\n",
       "      <td>2.0</td>\n",
       "      <td>63.0</td>\n",
       "      <td>1.0</td>\n",
       "      <td>90.0</td>\n",
       "      <td>0.028</td>\n",
       "      <td>0.030</td>\n",
       "      <td>0.058</td>\n",
       "      <td>0.718</td>\n",
       "      <td>N</td>\n",
       "    </tr>\n",
       "    <tr>\n",
       "      <th>3</th>\n",
       "      <td>4.0</td>\n",
       "      <td>Havertz</td>\n",
       "      <td>4.0</td>\n",
       "      <td>78.0</td>\n",
       "      <td>1.0</td>\n",
       "      <td>71.8</td>\n",
       "      <td>0.324</td>\n",
       "      <td>0.058</td>\n",
       "      <td>0.382</td>\n",
       "      <td>0.674</td>\n",
       "      <td>N</td>\n",
       "    </tr>\n",
       "    <tr>\n",
       "      <th>5</th>\n",
       "      <td>6.0</td>\n",
       "      <td>J.Timber</td>\n",
       "      <td>2.0</td>\n",
       "      <td>56.0</td>\n",
       "      <td>1.0</td>\n",
       "      <td>90.0</td>\n",
       "      <td>0.008</td>\n",
       "      <td>0.020</td>\n",
       "      <td>0.028</td>\n",
       "      <td>0.718</td>\n",
       "      <td>N</td>\n",
       "    </tr>\n",
       "  </tbody>\n",
       "</table>\n",
       "</div>"
      ],
      "text/plain": [
       "   playerid      web_name  element_type  now_cost  team  minutes_x   \n",
       "0       1.0  Fábio Vieira           3.0      54.0   1.0        0.0  \\\n",
       "1       2.0       G.Jesus           4.0      65.0   1.0        0.0   \n",
       "2       3.0       Gabriel           2.0      63.0   1.0       90.0   \n",
       "3       4.0       Havertz           4.0      78.0   1.0       71.8   \n",
       "5       6.0      J.Timber           2.0      56.0   1.0       90.0   \n",
       "\n",
       "   expected_goals.gw  expected_assists.gw  expected_goal_involvements.gw   \n",
       "0              0.000                0.000                          0.000  \\\n",
       "1              0.000                0.000                          0.000   \n",
       "2              0.028                0.030                          0.058   \n",
       "3              0.324                0.058                          0.382   \n",
       "5              0.008                0.020                          0.028   \n",
       "\n",
       "   expected_goals_conceded.gw ExcludeDef  \n",
       "0                       0.000          N  \n",
       "1                       0.000          N  \n",
       "2                       0.718          N  \n",
       "3                       0.674          N  \n",
       "5                       0.718          N  "
      ]
     },
     "execution_count": 39,
     "metadata": {},
     "output_type": "execute_result"
    }
   ],
   "source": [
    "##Previous 4 Gameweeks this dataframe is returning the averages for the selected players\n",
    "Elements_Dim1 = Elements_Dim1[Elements_Dim1['event']<UpcomingWeek]\n",
    "\n",
    "GWElementsDFLast4Weeks = Elements_Dim1[Elements_Dim1['event']>UpcomingWeek-NoTrailingWeeks-1]\n",
    "\n",
    "GWElementsDFLast4Weeks = GWElementsDFLast4Weeks[['minutes_x','playerid','web_name','element_type','team','now_cost','expected_goals.gw','expected_assists.gw','expected_goal_involvements.gw','expected_goals_conceded.gw']]\n",
    "\n",
    "GWElementsDFLast4Weeks['expected_goals.gw'] = GWElementsDFLast4Weeks['expected_goals.gw'].astype(float)\n",
    "GWElementsDFLast4Weeks['expected_assists.gw'] = GWElementsDFLast4Weeks['expected_assists.gw'].astype(float)\n",
    "GWElementsDFLast4Weeks['expected_goal_involvements.gw'] = GWElementsDFLast4Weeks['expected_goal_involvements.gw'].astype(float)\n",
    "GWElementsDFLast4Weeks['expected_goals_conceded.gw'] = GWElementsDFLast4Weeks['expected_goals_conceded.gw'].astype(float)\n",
    "\n",
    "GWElementsDFLast4Weeks = GWElementsDFLast4Weeks.groupby(['playerid','web_name','element_type','now_cost','team'], as_index=False)[['minutes_x','expected_goals.gw','expected_assists.gw','expected_goal_involvements.gw','expected_goals_conceded.gw']].mean(numeric_only=True)\n",
    "\n",
    "GWElementsDFLast4Weeks['ExcludeDef'] = GWElementsDFLast4Weeks.apply(\n",
    "    lambda row: 'Y' if (row['element_type'] == 1 or row['element_type'] == 2) and row['minutes_x']< 59 else 'N', \n",
    "    axis=1\n",
    ")\n",
    "\n",
    "grouped_dfLast4Weeks=GWElementsDFLast4Weeks[GWElementsDFLast4Weeks['ExcludeDef']!='Y']\n",
    "grouped_dfLast4Weeks.head()"
   ]
  },
  {
   "cell_type": "code",
   "execution_count": 40,
   "metadata": {},
   "outputs": [
    {
     "data": {
      "text/html": [
       "<div>\n",
       "<style scoped>\n",
       "    .dataframe tbody tr th:only-of-type {\n",
       "        vertical-align: middle;\n",
       "    }\n",
       "\n",
       "    .dataframe tbody tr th {\n",
       "        vertical-align: top;\n",
       "    }\n",
       "\n",
       "    .dataframe thead th {\n",
       "        text-align: right;\n",
       "    }\n",
       "</style>\n",
       "<table border=\"1\" class=\"dataframe\">\n",
       "  <thead>\n",
       "    <tr style=\"text-align: right;\">\n",
       "      <th></th>\n",
       "      <th>playerid</th>\n",
       "      <th>web_name</th>\n",
       "      <th>element_type</th>\n",
       "      <th>now_cost</th>\n",
       "      <th>team</th>\n",
       "      <th>minutes_x</th>\n",
       "      <th>expected_goals.gw</th>\n",
       "      <th>expected_assists.gw</th>\n",
       "      <th>expected_goal_involvements.gw</th>\n",
       "      <th>expected_goals_conceded.gw</th>\n",
       "      <th>ExcludeDef</th>\n",
       "      <th>OppTeam</th>\n",
       "      <th>Teams.name</th>\n",
       "      <th>XGI_Weighted</th>\n",
       "      <th>XGC_Weighted</th>\n",
       "      <th>Minutes</th>\n",
       "      <th>AttackOpp2</th>\n",
       "      <th>DefenceOpp2</th>\n",
       "    </tr>\n",
       "  </thead>\n",
       "  <tbody>\n",
       "    <tr>\n",
       "      <th>0</th>\n",
       "      <td>1.0</td>\n",
       "      <td>Fábio Vieira</td>\n",
       "      <td>3.0</td>\n",
       "      <td>54.0</td>\n",
       "      <td>1.0</td>\n",
       "      <td>0.0</td>\n",
       "      <td>0.000</td>\n",
       "      <td>0.000</td>\n",
       "      <td>0.000</td>\n",
       "      <td>0.000</td>\n",
       "      <td>N</td>\n",
       "      <td>1.0</td>\n",
       "      <td>Arsenal</td>\n",
       "      <td>0.860570</td>\n",
       "      <td>0.898802</td>\n",
       "      <td>444.545455</td>\n",
       "      <td>0.000000</td>\n",
       "      <td>0.000000</td>\n",
       "    </tr>\n",
       "    <tr>\n",
       "      <th>176</th>\n",
       "      <td>609.0</td>\n",
       "      <td>Lankshear</td>\n",
       "      <td>4.0</td>\n",
       "      <td>45.0</td>\n",
       "      <td>18.0</td>\n",
       "      <td>0.2</td>\n",
       "      <td>0.000</td>\n",
       "      <td>0.000</td>\n",
       "      <td>0.000</td>\n",
       "      <td>0.000</td>\n",
       "      <td>N</td>\n",
       "      <td>18.0</td>\n",
       "      <td>Spurs</td>\n",
       "      <td>0.660869</td>\n",
       "      <td>2.167410</td>\n",
       "      <td>411.666667</td>\n",
       "      <td>0.000000</td>\n",
       "      <td>0.000000</td>\n",
       "    </tr>\n",
       "    <tr>\n",
       "      <th>376</th>\n",
       "      <td>312.0</td>\n",
       "      <td>Bajcetic</td>\n",
       "      <td>3.0</td>\n",
       "      <td>45.0</td>\n",
       "      <td>12.0</td>\n",
       "      <td>0.0</td>\n",
       "      <td>0.000</td>\n",
       "      <td>0.000</td>\n",
       "      <td>0.000</td>\n",
       "      <td>0.000</td>\n",
       "      <td>N</td>\n",
       "      <td>12.0</td>\n",
       "      <td>Liverpool</td>\n",
       "      <td>1.669808</td>\n",
       "      <td>1.391873</td>\n",
       "      <td>591.500000</td>\n",
       "      <td>0.000000</td>\n",
       "      <td>0.000000</td>\n",
       "    </tr>\n",
       "    <tr>\n",
       "      <th>178</th>\n",
       "      <td>612.0</td>\n",
       "      <td>Odobert</td>\n",
       "      <td>3.0</td>\n",
       "      <td>53.0</td>\n",
       "      <td>18.0</td>\n",
       "      <td>0.6</td>\n",
       "      <td>0.000</td>\n",
       "      <td>0.000</td>\n",
       "      <td>0.000</td>\n",
       "      <td>0.020</td>\n",
       "      <td>N</td>\n",
       "      <td>18.0</td>\n",
       "      <td>Spurs</td>\n",
       "      <td>0.660869</td>\n",
       "      <td>2.167410</td>\n",
       "      <td>411.666667</td>\n",
       "      <td>0.000000</td>\n",
       "      <td>0.000000</td>\n",
       "    </tr>\n",
       "    <tr>\n",
       "      <th>179</th>\n",
       "      <td>683.0</td>\n",
       "      <td>Olusesi</td>\n",
       "      <td>3.0</td>\n",
       "      <td>45.0</td>\n",
       "      <td>18.0</td>\n",
       "      <td>0.0</td>\n",
       "      <td>0.000</td>\n",
       "      <td>0.000</td>\n",
       "      <td>0.000</td>\n",
       "      <td>0.000</td>\n",
       "      <td>N</td>\n",
       "      <td>18.0</td>\n",
       "      <td>Spurs</td>\n",
       "      <td>0.660869</td>\n",
       "      <td>2.167410</td>\n",
       "      <td>411.666667</td>\n",
       "      <td>0.000000</td>\n",
       "      <td>0.000000</td>\n",
       "    </tr>\n",
       "    <tr>\n",
       "      <th>...</th>\n",
       "      <td>...</td>\n",
       "      <td>...</td>\n",
       "      <td>...</td>\n",
       "      <td>...</td>\n",
       "      <td>...</td>\n",
       "      <td>...</td>\n",
       "      <td>...</td>\n",
       "      <td>...</td>\n",
       "      <td>...</td>\n",
       "      <td>...</td>\n",
       "      <td>...</td>\n",
       "      <td>...</td>\n",
       "      <td>...</td>\n",
       "      <td>...</td>\n",
       "      <td>...</td>\n",
       "      <td>...</td>\n",
       "      <td>...</td>\n",
       "      <td>...</td>\n",
       "    </tr>\n",
       "    <tr>\n",
       "      <th>186</th>\n",
       "      <td>768.0</td>\n",
       "      <td>Tel</td>\n",
       "      <td>3.0</td>\n",
       "      <td>60.0</td>\n",
       "      <td>18.0</td>\n",
       "      <td>90.0</td>\n",
       "      <td>0.670</td>\n",
       "      <td>0.060</td>\n",
       "      <td>0.730</td>\n",
       "      <td>1.540</td>\n",
       "      <td>N</td>\n",
       "      <td>18.0</td>\n",
       "      <td>Spurs</td>\n",
       "      <td>0.660869</td>\n",
       "      <td>2.167410</td>\n",
       "      <td>411.666667</td>\n",
       "      <td>1.582209</td>\n",
       "      <td>0.482434</td>\n",
       "    </tr>\n",
       "    <tr>\n",
       "      <th>489</th>\n",
       "      <td>447.0</td>\n",
       "      <td>Wood</td>\n",
       "      <td>4.0</td>\n",
       "      <td>71.0</td>\n",
       "      <td>16.0</td>\n",
       "      <td>86.4</td>\n",
       "      <td>0.638</td>\n",
       "      <td>0.012</td>\n",
       "      <td>0.650</td>\n",
       "      <td>1.402</td>\n",
       "      <td>N</td>\n",
       "      <td>16.0</td>\n",
       "      <td>Nott'm Forest</td>\n",
       "      <td>0.614508</td>\n",
       "      <td>2.501349</td>\n",
       "      <td>448.272727</td>\n",
       "      <td>1.625877</td>\n",
       "      <td>0.399430</td>\n",
       "    </tr>\n",
       "    <tr>\n",
       "      <th>196</th>\n",
       "      <td>99.0</td>\n",
       "      <td>Mbeumo</td>\n",
       "      <td>3.0</td>\n",
       "      <td>79.0</td>\n",
       "      <td>4.0</td>\n",
       "      <td>90.0</td>\n",
       "      <td>0.464</td>\n",
       "      <td>0.226</td>\n",
       "      <td>0.690</td>\n",
       "      <td>1.678</td>\n",
       "      <td>N</td>\n",
       "      <td>4.0</td>\n",
       "      <td>Brentford</td>\n",
       "      <td>0.756596</td>\n",
       "      <td>2.694661</td>\n",
       "      <td>411.666667</td>\n",
       "      <td>1.859316</td>\n",
       "      <td>0.522051</td>\n",
       "    </tr>\n",
       "    <tr>\n",
       "      <th>203</th>\n",
       "      <td>110.0</td>\n",
       "      <td>Wissa</td>\n",
       "      <td>4.0</td>\n",
       "      <td>63.0</td>\n",
       "      <td>4.0</td>\n",
       "      <td>90.0</td>\n",
       "      <td>0.650</td>\n",
       "      <td>0.122</td>\n",
       "      <td>0.772</td>\n",
       "      <td>1.678</td>\n",
       "      <td>N</td>\n",
       "      <td>4.0</td>\n",
       "      <td>Brentford</td>\n",
       "      <td>0.756596</td>\n",
       "      <td>2.694661</td>\n",
       "      <td>411.666667</td>\n",
       "      <td>2.080279</td>\n",
       "      <td>0.584092</td>\n",
       "    </tr>\n",
       "    <tr>\n",
       "      <th>57</th>\n",
       "      <td>207.0</td>\n",
       "      <td>Mateta</td>\n",
       "      <td>4.0</td>\n",
       "      <td>73.0</td>\n",
       "      <td>7.0</td>\n",
       "      <td>87.4</td>\n",
       "      <td>0.942</td>\n",
       "      <td>0.234</td>\n",
       "      <td>1.176</td>\n",
       "      <td>1.068</td>\n",
       "      <td>N</td>\n",
       "      <td>7.0</td>\n",
       "      <td>Crystal Palace</td>\n",
       "      <td>0.810357</td>\n",
       "      <td>1.881325</td>\n",
       "      <td>448.636364</td>\n",
       "      <td>2.212438</td>\n",
       "      <td>0.952980</td>\n",
       "    </tr>\n",
       "  </tbody>\n",
       "</table>\n",
       "<p>527 rows × 18 columns</p>\n",
       "</div>"
      ],
      "text/plain": [
       "     playerid      web_name  element_type  now_cost  team  minutes_x   \n",
       "0         1.0  Fábio Vieira           3.0      54.0   1.0        0.0  \\\n",
       "176     609.0     Lankshear           4.0      45.0  18.0        0.2   \n",
       "376     312.0      Bajcetic           3.0      45.0  12.0        0.0   \n",
       "178     612.0       Odobert           3.0      53.0  18.0        0.6   \n",
       "179     683.0       Olusesi           3.0      45.0  18.0        0.0   \n",
       "..        ...           ...           ...       ...   ...        ...   \n",
       "186     768.0           Tel           3.0      60.0  18.0       90.0   \n",
       "489     447.0          Wood           4.0      71.0  16.0       86.4   \n",
       "196      99.0        Mbeumo           3.0      79.0   4.0       90.0   \n",
       "203     110.0         Wissa           4.0      63.0   4.0       90.0   \n",
       "57      207.0        Mateta           4.0      73.0   7.0       87.4   \n",
       "\n",
       "     expected_goals.gw  expected_assists.gw  expected_goal_involvements.gw   \n",
       "0                0.000                0.000                          0.000  \\\n",
       "176              0.000                0.000                          0.000   \n",
       "376              0.000                0.000                          0.000   \n",
       "178              0.000                0.000                          0.000   \n",
       "179              0.000                0.000                          0.000   \n",
       "..                 ...                  ...                            ...   \n",
       "186              0.670                0.060                          0.730   \n",
       "489              0.638                0.012                          0.650   \n",
       "196              0.464                0.226                          0.690   \n",
       "203              0.650                0.122                          0.772   \n",
       "57               0.942                0.234                          1.176   \n",
       "\n",
       "     expected_goals_conceded.gw ExcludeDef  OppTeam      Teams.name   \n",
       "0                         0.000          N      1.0         Arsenal  \\\n",
       "176                       0.000          N     18.0           Spurs   \n",
       "376                       0.000          N     12.0       Liverpool   \n",
       "178                       0.020          N     18.0           Spurs   \n",
       "179                       0.000          N     18.0           Spurs   \n",
       "..                          ...        ...      ...             ...   \n",
       "186                       1.540          N     18.0           Spurs   \n",
       "489                       1.402          N     16.0   Nott'm Forest   \n",
       "196                       1.678          N      4.0       Brentford   \n",
       "203                       1.678          N      4.0       Brentford   \n",
       "57                        1.068          N      7.0  Crystal Palace   \n",
       "\n",
       "     XGI_Weighted  XGC_Weighted     Minutes  AttackOpp2  DefenceOpp2  \n",
       "0        0.860570      0.898802  444.545455    0.000000     0.000000  \n",
       "176      0.660869      2.167410  411.666667    0.000000     0.000000  \n",
       "376      1.669808      1.391873  591.500000    0.000000     0.000000  \n",
       "178      0.660869      2.167410  411.666667    0.000000     0.000000  \n",
       "179      0.660869      2.167410  411.666667    0.000000     0.000000  \n",
       "..            ...           ...         ...         ...          ...  \n",
       "186      0.660869      2.167410  411.666667    1.582209     0.482434  \n",
       "489      0.614508      2.501349  448.272727    1.625877     0.399430  \n",
       "196      0.756596      2.694661  411.666667    1.859316     0.522051  \n",
       "203      0.756596      2.694661  411.666667    2.080279     0.584092  \n",
       "57       0.810357      1.881325  448.636364    2.212438     0.952980  \n",
       "\n",
       "[527 rows x 18 columns]"
      ]
     },
     "execution_count": 40,
     "metadata": {},
     "output_type": "execute_result"
    }
   ],
   "source": [
    "### Returns combinations of historic XG stats from players multiplied by historic opposition team performance\n",
    "\n",
    "OpportunitiesCalc = pd.merge(grouped_dfLast4Weeks, Elements_Dim2Grouped2,left_on='team', right_on='OppTeam', how='outer')\n",
    "\n",
    "OpportunitiesCalc['AttackOpp2'] = OpportunitiesCalc['XGC_Weighted']*OpportunitiesCalc['expected_goal_involvements.gw']\n",
    "\n",
    "OpportunitiesCalc['DefenceOpp2'] = OpportunitiesCalc['XGI_Weighted']*OpportunitiesCalc['expected_goal_involvements.gw']\n",
    "\n",
    "OpportunitiesCalc.sort_values(by=['AttackOpp2'])\n"
   ]
  },
  {
   "cell_type": "code",
   "execution_count": 41,
   "metadata": {},
   "outputs": [],
   "source": [
    "##### Returns Output 1 FixturesElementsAll\n",
    "FixturesElementsAll1 = pd.merge(FixturesConcat, Elements_Dim2Grouped2,left_on='OppTeam2', right_on='OppTeam', how='outer')\n",
    "\n",
    "FixturesElementsAll2 = pd.merge(grouped_dfLast4Weeks, FixturesElementsAll1,left_on='team', right_on='TeamID', how='outer')\n",
    "\n",
    "FixturesElementsAll2['AttackOpp_pergame'] = FixturesElementsAll2['XGC_Weighted']*FixturesElementsAll2['expected_goal_involvements.gw']\n",
    "\n",
    "FixturesElementsAll2['DefenceOpp_pergame'] = FixturesElementsAll2['XGI_Weighted']*FixturesElementsAll2['expected_goals_conceded.gw']\n",
    "\n",
    "FixturesElementsAll2.to_csv('FixturesElementsAll.csv')\n"
   ]
  },
  {
   "cell_type": "code",
   "execution_count": 42,
   "metadata": {},
   "outputs": [],
   "source": [
    "##### Returns Output 2 FixturesElementsAllGrouped for previous 4 weeks\n",
    "\n",
    "FixturesElementsAllGrouped = FixturesElementsAll2[FixturesElementsAll2['event']>UpcomingWeek-NoForecastWeeks-1]\n",
    "\n",
    "FixturesElementsAllGrouped = FixturesElementsAllGrouped[['playerid','web_name','element_type','team','now_cost','expected_goals.gw','expected_assists.gw','expected_goal_involvements.gw','expected_goals_conceded.gw','XGI_Weighted','XGC_Weighted','AttackOpp_pergame','DefenceOpp_pergame']]\n",
    "\n",
    "FixturesElementsAllGrouped = FixturesElementsAllGrouped.groupby(['playerid','web_name','element_type','now_cost','team'], as_index=False)[['expected_goals.gw','expected_assists.gw','expected_goal_involvements.gw','expected_goals_conceded.gw','XGI_Weighted','XGC_Weighted','AttackOpp_pergame','DefenceOpp_pergame']].mean(numeric_only=True)\n",
    "\n",
    "FixturesElementsAllGrouped.to_csv('FixturesElementsAllGrouped.csv')"
   ]
  },
  {
   "cell_type": "code",
   "execution_count": 43,
   "metadata": {},
   "outputs": [
    {
     "data": {
      "text/html": [
       "<div>\n",
       "<style scoped>\n",
       "    .dataframe tbody tr th:only-of-type {\n",
       "        vertical-align: middle;\n",
       "    }\n",
       "\n",
       "    .dataframe tbody tr th {\n",
       "        vertical-align: top;\n",
       "    }\n",
       "\n",
       "    .dataframe thead th {\n",
       "        text-align: right;\n",
       "    }\n",
       "</style>\n",
       "<table border=\"1\" class=\"dataframe\">\n",
       "  <thead>\n",
       "    <tr style=\"text-align: right;\">\n",
       "      <th></th>\n",
       "      <th>element</th>\n",
       "      <th>is_captain</th>\n",
       "    </tr>\n",
       "  </thead>\n",
       "  <tbody>\n",
       "    <tr>\n",
       "      <th>0</th>\n",
       "      <td>235</td>\n",
       "      <td>True</td>\n",
       "    </tr>\n",
       "    <tr>\n",
       "      <th>1</th>\n",
       "      <td>255</td>\n",
       "      <td>False</td>\n",
       "    </tr>\n",
       "    <tr>\n",
       "      <th>2</th>\n",
       "      <td>311</td>\n",
       "      <td>False</td>\n",
       "    </tr>\n",
       "    <tr>\n",
       "      <th>3</th>\n",
       "      <td>422</td>\n",
       "      <td>False</td>\n",
       "    </tr>\n",
       "    <tr>\n",
       "      <th>4</th>\n",
       "      <td>78</td>\n",
       "      <td>False</td>\n",
       "    </tr>\n",
       "  </tbody>\n",
       "</table>\n",
       "</div>"
      ],
      "text/plain": [
       "   element  is_captain\n",
       "0      235        True\n",
       "1      255       False\n",
       "2      311       False\n",
       "3      422       False\n",
       "4       78       False"
      ]
     },
     "execution_count": 43,
     "metadata": {},
     "output_type": "execute_result"
    }
   ],
   "source": [
    "url = f\"https://fantasy.premierleague.com/api/entry/{TeamID}/event/{PrevWeek}/picks/\"\n",
    "response = requests.get(url)\n",
    "json_data = response.json()\n",
    "\n",
    "TeamSelection = json_data['picks']\n",
    "\n",
    "TeamSelection = pd.json_normalize(TeamSelection)\n",
    "\n",
    "TeamSelection1 = TeamSelection[['element','is_captain']]\n",
    "\n",
    "TeamSelection1.head()"
   ]
  },
  {
   "cell_type": "code",
   "execution_count": 44,
   "metadata": {},
   "outputs": [],
   "source": [
    "FixturesElementsAllGroupedwithTS = pd.merge(FixturesElementsAllGrouped, TeamSelection,left_on='playerid', right_on='element', how='outer')\n",
    "\n",
    "FixturesElementsAllGroupedwithTS['IsInCurrentTeam'] = np.where(\n",
    "    FixturesElementsAllGroupedwithTS['is_captain'].notnull(),\n",
    "    'Y',\n",
    "    'N'\n",
    ")"
   ]
  },
  {
   "cell_type": "code",
   "execution_count": 45,
   "metadata": {},
   "outputs": [
    {
     "name": "stderr",
     "output_type": "stream",
     "text": [
      "C:\\Users\\james\\AppData\\Local\\Temp\\ipykernel_19300\\783674645.py:35: UserWarning:\n",
      "\n",
      "Boolean Series key will be reindexed to match DataFrame index.\n",
      "\n"
     ]
    },
    {
     "data": {
      "application/vnd.plotly.v1+json": {
       "config": {
        "plotlyServerURL": "https://plot.ly"
       },
       "data": [
        {
         "colorscale": [
          [
           0,
           "rgb(255,245,240)"
          ],
          [
           0.125,
           "rgb(254,224,210)"
          ],
          [
           0.25,
           "rgb(252,187,161)"
          ],
          [
           0.375,
           "rgb(252,146,114)"
          ],
          [
           0.5,
           "rgb(251,106,74)"
          ],
          [
           0.625,
           "rgb(239,59,44)"
          ],
          [
           0.75,
           "rgb(203,24,29)"
          ],
          [
           0.875,
           "rgb(165,15,21)"
          ],
          [
           1,
           "rgb(103,0,13)"
          ]
         ],
         "text": [
          [
           null,
           "Brentford",
           "West Ham",
           "Chelsea",
           "Man Utd",
           "Man City",
           "Newcastle"
          ],
          [
           null,
           "Southampton",
           "Bournemouth",
           "Fulham",
           "Man City",
           "Aston Villa",
           "Crystal Palace"
          ],
          [
           null,
           "Leicester",
           "Everton",
           "Aston Villa",
           "Bournemouth",
           "Newcastle",
           "Chelsea"
          ],
          [
           null,
           "West Ham",
           "Nott'm Forest",
           "Man Utd",
           "Chelsea",
           "Fulham",
           "Everton"
          ],
          [
           null,
           "Southampton",
           "Bournemouth",
           "Fulham",
           "Man City",
           "Aston Villa",
           "Crystal Palace"
          ],
          [
           null,
           "Liverpool",
           "Spurs",
           "Nott'm Forest",
           "Brighton",
           "Leicester",
           "Man Utd"
          ],
          [
           null,
           "West Ham",
           "Nott'm Forest",
           "Man Utd",
           "Chelsea",
           "Fulham",
           "Everton"
          ],
          [
           null,
           "Aston Villa",
           "Southampton",
           "Leicester",
           "Arsenal",
           "Spurs",
           "Brentford"
          ],
          [
           null,
           "Crystal Palace",
           "Wolves",
           "Brighton",
           "Spurs",
           "Arsenal",
           "Liverpool"
          ],
          [
           null,
           "West Ham",
           "Nott'm Forest",
           "Man Utd",
           "Chelsea",
           "Fulham",
           "Everton"
          ],
          [
           null,
           "Wolves",
           "Brighton",
           "Spurs",
           "Brentford",
           "Ipswich",
           "West Ham"
          ],
          [
           null,
           "Man Utd",
           "Brentford",
           "Wolves",
           "West Ham",
           "Liverpool",
           "Arsenal"
          ],
          [
           null,
           "Nott'm Forest",
           "Liverpool",
           "West Ham",
           null,
           "Brentford",
           "Leicester"
          ],
          [
           null,
           "Liverpool",
           "Spurs",
           "Nott'm Forest",
           "Brighton",
           "Leicester",
           "Man Utd"
          ],
          [
           null,
           "Bournemouth",
           "Fulham",
           "Everton",
           "Southampton",
           "West Ham",
           "Ipswich"
          ],
          [
           null,
           "Wolves",
           "Brighton",
           "Spurs",
           "Brentford",
           "Ipswich",
           "West Ham"
          ],
          [
           null,
           "Newcastle",
           "Arsenal",
           "Man City",
           "Ipswich",
           "Man Utd",
           "Aston Villa"
          ],
          [
           null,
           "Leicester",
           "Everton",
           "Aston Villa",
           "Bournemouth",
           "Newcastle",
           "Chelsea"
          ],
          [
           null,
           "Bournemouth",
           "Fulham",
           "Everton",
           "Southampton",
           "West Ham",
           "Ipswich"
          ],
          [
           null,
           "Arsenal",
           "Leicester",
           "Newcastle",
           "Everton",
           "Wolves",
           "Bournemouth"
          ],
          [
           null,
           "Man Utd",
           "Brentford",
           "Wolves",
           "West Ham",
           "Liverpool",
           "Arsenal"
          ],
          [
           null,
           "Fulham",
           "Aston Villa",
           "Ipswich",
           null,
           "Southampton",
           "Brighton"
          ],
          [
           null,
           "Crystal Palace",
           "Wolves",
           "Brighton",
           "Spurs",
           "Arsenal",
           "Liverpool"
          ],
          [
           null,
           "Everton",
           "Ipswich",
           "Arsenal",
           "Leicester",
           "Nott'm Forest",
           "Man City"
          ],
          [
           null,
           "Brighton",
           "Chelsea",
           "Liverpool",
           "Wolves",
           "Crystal Palace",
           "Spurs"
          ],
          [
           null,
           "Nott'm Forest",
           "Liverpool",
           "West Ham",
           null,
           "Brentford",
           "Leicester"
          ],
          [
           "Liverpool",
           "Chelsea",
           "Crystal Palace",
           "Brentford",
           null,
           "Brighton",
           "Nott'm Forest"
          ],
          [
           null,
           "Southampton",
           "Bournemouth",
           "Fulham",
           "Man City",
           "Aston Villa",
           "Crystal Palace"
          ],
          [
           null,
           "Bournemouth",
           "Fulham",
           "Everton",
           "Southampton",
           "West Ham",
           "Ipswich"
          ],
          [
           null,
           "Ipswich",
           "Man City",
           "Bournemouth",
           "Fulham",
           "Chelsea",
           "Southampton"
          ]
         ],
         "textfont": {
          "size": 8
         },
         "texttemplate": "%{text}",
         "type": "heatmap",
         "x": [
          25,
          26,
          27,
          28,
          29,
          30,
          31
         ],
         "y": [
          "0.17-J.Ayew",
          "0.18-Ayari",
          "0.19-Lewis-Potter",
          "0.19-Merino",
          "0.21-Georginio",
          "0.21-Kovačić",
          "0.21-Nwaneri",
          "0.22-Enzo",
          "0.23-Lukić",
          "0.23-Rice",
          "0.24-Brooks",
          "0.25-A.Doucoure",
          "0.25-Joelinton",
          "0.26-McAtee",
          "0.26-Sarabia",
          "0.29-Christie",
          "0.29-Gibbs-White",
          "0.29-Schade",
          "0.30-Guedes",
          "0.30-L.Paquetá",
          "0.30-Lindstrøm",
          "0.35-I.Sarr",
          "0.36-Adama",
          "0.37-Garnacho",
          "0.38-M.Fernandes",
          "0.43-Bruno G.",
          "0.45-M.Asensio",
          "0.51-Minteh",
          "0.55-Munetsi",
          "0.73-Tel"
         ],
         "z": [
          [
           null,
           2.694661391216,
           2.20504222016,
           1.9606054765279999,
           2.527303401836,
           1.52276252352,
           2.42858263284
          ],
          [
           null,
           3.8147999999999995,
           2.57591730482,
           0.876029057104,
           1.52276252352,
           1.73654130416,
           1.88132509864
          ],
          [
           null,
           3.0225999999999997,
           1.7584406645759998,
           1.73654130416,
           2.57591730482,
           2.42858263284,
           1.9606054765279999
          ],
          [
           null,
           2.20504222016,
           2.5013491688080003,
           2.527303401836,
           1.9606054765279999,
           0.876029057104,
           1.7584406645759998
          ],
          [
           null,
           3.8147999999999995,
           2.57591730482,
           0.876029057104,
           1.52276252352,
           1.73654130416,
           1.88132509864
          ],
          [
           null,
           1.39187298564,
           2.167410023936,
           2.5013491688080003,
           1.8986269035599999,
           3.0225999999999997,
           2.527303401836
          ],
          [
           null,
           2.20504222016,
           2.5013491688080003,
           2.527303401836,
           1.9606054765279999,
           0.876029057104,
           1.7584406645759998
          ],
          [
           null,
           1.73654130416,
           3.8147999999999995,
           3.0225999999999997,
           0.898801838828,
           2.167410023936,
           2.694661391216
          ],
          [
           null,
           1.88132509864,
           2.755115630344,
           1.8986269035599999,
           2.167410023936,
           0.898801838828,
           1.39187298564
          ],
          [
           null,
           2.20504222016,
           2.5013491688080003,
           2.527303401836,
           1.9606054765279999,
           0.876029057104,
           1.7584406645759998
          ],
          [
           null,
           2.755115630344,
           1.8986269035599999,
           2.167410023936,
           2.694661391216,
           3.1654,
           2.20504222016
          ],
          [
           null,
           2.527303401836,
           2.694661391216,
           2.755115630344,
           2.20504222016,
           1.39187298564,
           0.898801838828
          ],
          [
           null,
           2.5013491688080003,
           1.39187298564,
           2.20504222016,
           null,
           2.694661391216,
           3.0225999999999997
          ],
          [
           null,
           1.39187298564,
           2.167410023936,
           2.5013491688080003,
           1.8986269035599999,
           3.0225999999999997,
           2.527303401836
          ],
          [
           null,
           2.57591730482,
           0.876029057104,
           1.7584406645759998,
           3.8147999999999995,
           2.20504222016,
           3.1654
          ],
          [
           null,
           2.755115630344,
           1.8986269035599999,
           2.167410023936,
           2.694661391216,
           3.1654,
           2.20504222016
          ],
          [
           null,
           2.42858263284,
           0.898801838828,
           1.52276252352,
           3.1654,
           2.527303401836,
           1.73654130416
          ],
          [
           null,
           3.0225999999999997,
           1.7584406645759998,
           1.73654130416,
           2.57591730482,
           2.42858263284,
           1.9606054765279999
          ],
          [
           null,
           2.57591730482,
           0.876029057104,
           1.7584406645759998,
           3.8147999999999995,
           2.20504222016,
           3.1654
          ],
          [
           null,
           0.898801838828,
           3.0225999999999997,
           2.42858263284,
           1.7584406645759998,
           2.755115630344,
           2.57591730482
          ],
          [
           null,
           2.527303401836,
           2.694661391216,
           2.755115630344,
           2.20504222016,
           1.39187298564,
           0.898801838828
          ],
          [
           null,
           0.876029057104,
           1.73654130416,
           3.1654,
           null,
           3.8147999999999995,
           1.8986269035599999
          ],
          [
           null,
           1.88132509864,
           2.755115630344,
           1.8986269035599999,
           2.167410023936,
           0.898801838828,
           1.39187298564
          ],
          [
           null,
           1.7584406645759998,
           3.1654,
           0.898801838828,
           3.0225999999999997,
           2.5013491688080003,
           1.52276252352
          ],
          [
           null,
           1.8986269035599999,
           1.9606054765279999,
           1.39187298564,
           2.755115630344,
           1.88132509864,
           2.167410023936
          ],
          [
           null,
           2.5013491688080003,
           1.39187298564,
           2.20504222016,
           null,
           2.694661391216,
           3.0225999999999997
          ],
          [
           1.39187298564,
           1.9606054765279999,
           1.88132509864,
           2.694661391216,
           null,
           1.8986269035599999,
           2.5013491688080003
          ],
          [
           null,
           3.8147999999999995,
           2.57591730482,
           0.876029057104,
           1.52276252352,
           1.73654130416,
           1.88132509864
          ],
          [
           null,
           2.57591730482,
           0.876029057104,
           1.7584406645759998,
           3.8147999999999995,
           2.20504222016,
           3.1654
          ],
          [
           null,
           3.1654,
           1.52276252352,
           2.57591730482,
           0.876029057104,
           1.9606054765279999,
           3.8147999999999995
          ]
         ]
        }
       ],
       "layout": {
        "margin": {
         "b": 50,
         "l": 200,
         "r": 50,
         "t": 50
        },
        "template": {
         "data": {
          "bar": [
           {
            "error_x": {
             "color": "#2a3f5f"
            },
            "error_y": {
             "color": "#2a3f5f"
            },
            "marker": {
             "line": {
              "color": "#E5ECF6",
              "width": 0.5
             },
             "pattern": {
              "fillmode": "overlay",
              "size": 10,
              "solidity": 0.2
             }
            },
            "type": "bar"
           }
          ],
          "barpolar": [
           {
            "marker": {
             "line": {
              "color": "#E5ECF6",
              "width": 0.5
             },
             "pattern": {
              "fillmode": "overlay",
              "size": 10,
              "solidity": 0.2
             }
            },
            "type": "barpolar"
           }
          ],
          "carpet": [
           {
            "aaxis": {
             "endlinecolor": "#2a3f5f",
             "gridcolor": "white",
             "linecolor": "white",
             "minorgridcolor": "white",
             "startlinecolor": "#2a3f5f"
            },
            "baxis": {
             "endlinecolor": "#2a3f5f",
             "gridcolor": "white",
             "linecolor": "white",
             "minorgridcolor": "white",
             "startlinecolor": "#2a3f5f"
            },
            "type": "carpet"
           }
          ],
          "choropleth": [
           {
            "colorbar": {
             "outlinewidth": 0,
             "ticks": ""
            },
            "type": "choropleth"
           }
          ],
          "contour": [
           {
            "colorbar": {
             "outlinewidth": 0,
             "ticks": ""
            },
            "colorscale": [
             [
              0,
              "#0d0887"
             ],
             [
              0.1111111111111111,
              "#46039f"
             ],
             [
              0.2222222222222222,
              "#7201a8"
             ],
             [
              0.3333333333333333,
              "#9c179e"
             ],
             [
              0.4444444444444444,
              "#bd3786"
             ],
             [
              0.5555555555555556,
              "#d8576b"
             ],
             [
              0.6666666666666666,
              "#ed7953"
             ],
             [
              0.7777777777777778,
              "#fb9f3a"
             ],
             [
              0.8888888888888888,
              "#fdca26"
             ],
             [
              1,
              "#f0f921"
             ]
            ],
            "type": "contour"
           }
          ],
          "contourcarpet": [
           {
            "colorbar": {
             "outlinewidth": 0,
             "ticks": ""
            },
            "type": "contourcarpet"
           }
          ],
          "heatmap": [
           {
            "colorbar": {
             "outlinewidth": 0,
             "ticks": ""
            },
            "colorscale": [
             [
              0,
              "#0d0887"
             ],
             [
              0.1111111111111111,
              "#46039f"
             ],
             [
              0.2222222222222222,
              "#7201a8"
             ],
             [
              0.3333333333333333,
              "#9c179e"
             ],
             [
              0.4444444444444444,
              "#bd3786"
             ],
             [
              0.5555555555555556,
              "#d8576b"
             ],
             [
              0.6666666666666666,
              "#ed7953"
             ],
             [
              0.7777777777777778,
              "#fb9f3a"
             ],
             [
              0.8888888888888888,
              "#fdca26"
             ],
             [
              1,
              "#f0f921"
             ]
            ],
            "type": "heatmap"
           }
          ],
          "heatmapgl": [
           {
            "colorbar": {
             "outlinewidth": 0,
             "ticks": ""
            },
            "colorscale": [
             [
              0,
              "#0d0887"
             ],
             [
              0.1111111111111111,
              "#46039f"
             ],
             [
              0.2222222222222222,
              "#7201a8"
             ],
             [
              0.3333333333333333,
              "#9c179e"
             ],
             [
              0.4444444444444444,
              "#bd3786"
             ],
             [
              0.5555555555555556,
              "#d8576b"
             ],
             [
              0.6666666666666666,
              "#ed7953"
             ],
             [
              0.7777777777777778,
              "#fb9f3a"
             ],
             [
              0.8888888888888888,
              "#fdca26"
             ],
             [
              1,
              "#f0f921"
             ]
            ],
            "type": "heatmapgl"
           }
          ],
          "histogram": [
           {
            "marker": {
             "pattern": {
              "fillmode": "overlay",
              "size": 10,
              "solidity": 0.2
             }
            },
            "type": "histogram"
           }
          ],
          "histogram2d": [
           {
            "colorbar": {
             "outlinewidth": 0,
             "ticks": ""
            },
            "colorscale": [
             [
              0,
              "#0d0887"
             ],
             [
              0.1111111111111111,
              "#46039f"
             ],
             [
              0.2222222222222222,
              "#7201a8"
             ],
             [
              0.3333333333333333,
              "#9c179e"
             ],
             [
              0.4444444444444444,
              "#bd3786"
             ],
             [
              0.5555555555555556,
              "#d8576b"
             ],
             [
              0.6666666666666666,
              "#ed7953"
             ],
             [
              0.7777777777777778,
              "#fb9f3a"
             ],
             [
              0.8888888888888888,
              "#fdca26"
             ],
             [
              1,
              "#f0f921"
             ]
            ],
            "type": "histogram2d"
           }
          ],
          "histogram2dcontour": [
           {
            "colorbar": {
             "outlinewidth": 0,
             "ticks": ""
            },
            "colorscale": [
             [
              0,
              "#0d0887"
             ],
             [
              0.1111111111111111,
              "#46039f"
             ],
             [
              0.2222222222222222,
              "#7201a8"
             ],
             [
              0.3333333333333333,
              "#9c179e"
             ],
             [
              0.4444444444444444,
              "#bd3786"
             ],
             [
              0.5555555555555556,
              "#d8576b"
             ],
             [
              0.6666666666666666,
              "#ed7953"
             ],
             [
              0.7777777777777778,
              "#fb9f3a"
             ],
             [
              0.8888888888888888,
              "#fdca26"
             ],
             [
              1,
              "#f0f921"
             ]
            ],
            "type": "histogram2dcontour"
           }
          ],
          "mesh3d": [
           {
            "colorbar": {
             "outlinewidth": 0,
             "ticks": ""
            },
            "type": "mesh3d"
           }
          ],
          "parcoords": [
           {
            "line": {
             "colorbar": {
              "outlinewidth": 0,
              "ticks": ""
             }
            },
            "type": "parcoords"
           }
          ],
          "pie": [
           {
            "automargin": true,
            "type": "pie"
           }
          ],
          "scatter": [
           {
            "fillpattern": {
             "fillmode": "overlay",
             "size": 10,
             "solidity": 0.2
            },
            "type": "scatter"
           }
          ],
          "scatter3d": [
           {
            "line": {
             "colorbar": {
              "outlinewidth": 0,
              "ticks": ""
             }
            },
            "marker": {
             "colorbar": {
              "outlinewidth": 0,
              "ticks": ""
             }
            },
            "type": "scatter3d"
           }
          ],
          "scattercarpet": [
           {
            "marker": {
             "colorbar": {
              "outlinewidth": 0,
              "ticks": ""
             }
            },
            "type": "scattercarpet"
           }
          ],
          "scattergeo": [
           {
            "marker": {
             "colorbar": {
              "outlinewidth": 0,
              "ticks": ""
             }
            },
            "type": "scattergeo"
           }
          ],
          "scattergl": [
           {
            "marker": {
             "colorbar": {
              "outlinewidth": 0,
              "ticks": ""
             }
            },
            "type": "scattergl"
           }
          ],
          "scattermapbox": [
           {
            "marker": {
             "colorbar": {
              "outlinewidth": 0,
              "ticks": ""
             }
            },
            "type": "scattermapbox"
           }
          ],
          "scatterpolar": [
           {
            "marker": {
             "colorbar": {
              "outlinewidth": 0,
              "ticks": ""
             }
            },
            "type": "scatterpolar"
           }
          ],
          "scatterpolargl": [
           {
            "marker": {
             "colorbar": {
              "outlinewidth": 0,
              "ticks": ""
             }
            },
            "type": "scatterpolargl"
           }
          ],
          "scatterternary": [
           {
            "marker": {
             "colorbar": {
              "outlinewidth": 0,
              "ticks": ""
             }
            },
            "type": "scatterternary"
           }
          ],
          "surface": [
           {
            "colorbar": {
             "outlinewidth": 0,
             "ticks": ""
            },
            "colorscale": [
             [
              0,
              "#0d0887"
             ],
             [
              0.1111111111111111,
              "#46039f"
             ],
             [
              0.2222222222222222,
              "#7201a8"
             ],
             [
              0.3333333333333333,
              "#9c179e"
             ],
             [
              0.4444444444444444,
              "#bd3786"
             ],
             [
              0.5555555555555556,
              "#d8576b"
             ],
             [
              0.6666666666666666,
              "#ed7953"
             ],
             [
              0.7777777777777778,
              "#fb9f3a"
             ],
             [
              0.8888888888888888,
              "#fdca26"
             ],
             [
              1,
              "#f0f921"
             ]
            ],
            "type": "surface"
           }
          ],
          "table": [
           {
            "cells": {
             "fill": {
              "color": "#EBF0F8"
             },
             "line": {
              "color": "white"
             }
            },
            "header": {
             "fill": {
              "color": "#C8D4E3"
             },
             "line": {
              "color": "white"
             }
            },
            "type": "table"
           }
          ]
         },
         "layout": {
          "annotationdefaults": {
           "arrowcolor": "#2a3f5f",
           "arrowhead": 0,
           "arrowwidth": 1
          },
          "autotypenumbers": "strict",
          "coloraxis": {
           "colorbar": {
            "outlinewidth": 0,
            "ticks": ""
           }
          },
          "colorscale": {
           "diverging": [
            [
             0,
             "#8e0152"
            ],
            [
             0.1,
             "#c51b7d"
            ],
            [
             0.2,
             "#de77ae"
            ],
            [
             0.3,
             "#f1b6da"
            ],
            [
             0.4,
             "#fde0ef"
            ],
            [
             0.5,
             "#f7f7f7"
            ],
            [
             0.6,
             "#e6f5d0"
            ],
            [
             0.7,
             "#b8e186"
            ],
            [
             0.8,
             "#7fbc41"
            ],
            [
             0.9,
             "#4d9221"
            ],
            [
             1,
             "#276419"
            ]
           ],
           "sequential": [
            [
             0,
             "#0d0887"
            ],
            [
             0.1111111111111111,
             "#46039f"
            ],
            [
             0.2222222222222222,
             "#7201a8"
            ],
            [
             0.3333333333333333,
             "#9c179e"
            ],
            [
             0.4444444444444444,
             "#bd3786"
            ],
            [
             0.5555555555555556,
             "#d8576b"
            ],
            [
             0.6666666666666666,
             "#ed7953"
            ],
            [
             0.7777777777777778,
             "#fb9f3a"
            ],
            [
             0.8888888888888888,
             "#fdca26"
            ],
            [
             1,
             "#f0f921"
            ]
           ],
           "sequentialminus": [
            [
             0,
             "#0d0887"
            ],
            [
             0.1111111111111111,
             "#46039f"
            ],
            [
             0.2222222222222222,
             "#7201a8"
            ],
            [
             0.3333333333333333,
             "#9c179e"
            ],
            [
             0.4444444444444444,
             "#bd3786"
            ],
            [
             0.5555555555555556,
             "#d8576b"
            ],
            [
             0.6666666666666666,
             "#ed7953"
            ],
            [
             0.7777777777777778,
             "#fb9f3a"
            ],
            [
             0.8888888888888888,
             "#fdca26"
            ],
            [
             1,
             "#f0f921"
            ]
           ]
          },
          "colorway": [
           "#636efa",
           "#EF553B",
           "#00cc96",
           "#ab63fa",
           "#FFA15A",
           "#19d3f3",
           "#FF6692",
           "#B6E880",
           "#FF97FF",
           "#FECB52"
          ],
          "font": {
           "color": "#2a3f5f"
          },
          "geo": {
           "bgcolor": "white",
           "lakecolor": "white",
           "landcolor": "#E5ECF6",
           "showlakes": true,
           "showland": true,
           "subunitcolor": "white"
          },
          "hoverlabel": {
           "align": "left"
          },
          "hovermode": "closest",
          "mapbox": {
           "style": "light"
          },
          "paper_bgcolor": "white",
          "plot_bgcolor": "#E5ECF6",
          "polar": {
           "angularaxis": {
            "gridcolor": "white",
            "linecolor": "white",
            "ticks": ""
           },
           "bgcolor": "#E5ECF6",
           "radialaxis": {
            "gridcolor": "white",
            "linecolor": "white",
            "ticks": ""
           }
          },
          "scene": {
           "xaxis": {
            "backgroundcolor": "#E5ECF6",
            "gridcolor": "white",
            "gridwidth": 2,
            "linecolor": "white",
            "showbackground": true,
            "ticks": "",
            "zerolinecolor": "white"
           },
           "yaxis": {
            "backgroundcolor": "#E5ECF6",
            "gridcolor": "white",
            "gridwidth": 2,
            "linecolor": "white",
            "showbackground": true,
            "ticks": "",
            "zerolinecolor": "white"
           },
           "zaxis": {
            "backgroundcolor": "#E5ECF6",
            "gridcolor": "white",
            "gridwidth": 2,
            "linecolor": "white",
            "showbackground": true,
            "ticks": "",
            "zerolinecolor": "white"
           }
          },
          "shapedefaults": {
           "line": {
            "color": "#2a3f5f"
           }
          },
          "ternary": {
           "aaxis": {
            "gridcolor": "white",
            "linecolor": "white",
            "ticks": ""
           },
           "baxis": {
            "gridcolor": "white",
            "linecolor": "white",
            "ticks": ""
           },
           "bgcolor": "#E5ECF6",
           "caxis": {
            "gridcolor": "white",
            "linecolor": "white",
            "ticks": ""
           }
          },
          "title": {
           "x": 0.05
          },
          "xaxis": {
           "automargin": true,
           "gridcolor": "white",
           "linecolor": "white",
           "ticks": "",
           "title": {
            "standoff": 15
           },
           "zerolinecolor": "white",
           "zerolinewidth": 2
          },
          "yaxis": {
           "automargin": true,
           "gridcolor": "white",
           "linecolor": "white",
           "ticks": "",
           "title": {
            "standoff": 15
           },
           "zerolinecolor": "white",
           "zerolinewidth": 2
          }
         }
        },
        "yaxis": {
         "ticktext": [
          "0.17-J.Ayew",
          "0.18-Ayari",
          "0.19-Lewis-Potter",
          "0.19-Merino",
          "0.21-Georginio",
          "0.21-Kovačić",
          "0.21-Nwaneri",
          "0.22-Enzo",
          "0.23-Lukić",
          "0.23-Rice",
          "0.24-Brooks",
          "0.25-A.Doucoure",
          "0.25-Joelinton",
          "0.26-McAtee",
          "0.26-Sarabia",
          "0.29-Christie",
          "0.29-Gibbs-White",
          "0.29-Schade",
          "0.30-Guedes",
          "0.30-L.Paquetá",
          "0.30-Lindstrøm",
          "0.35-I.Sarr",
          "0.36-Adama",
          "0.37-Garnacho",
          "0.38-M.Fernandes",
          "0.43-Bruno G.",
          "0.45-M.Asensio",
          "0.51-Minteh",
          "0.55-Munetsi",
          "0.73-Tel"
         ],
         "tickvals": [
          "0.17-J.Ayew",
          "0.18-Ayari",
          "0.19-Lewis-Potter",
          "0.19-Merino",
          "0.21-Georginio",
          "0.21-Kovačić",
          "0.21-Nwaneri",
          "0.22-Enzo",
          "0.23-Lukić",
          "0.23-Rice",
          "0.24-Brooks",
          "0.25-A.Doucoure",
          "0.25-Joelinton",
          "0.26-McAtee",
          "0.26-Sarabia",
          "0.29-Christie",
          "0.29-Gibbs-White",
          "0.29-Schade",
          "0.30-Guedes",
          "0.30-L.Paquetá",
          "0.30-Lindstrøm",
          "0.35-I.Sarr",
          "0.36-Adama",
          "0.37-Garnacho",
          "0.38-M.Fernandes",
          "0.43-Bruno G.",
          "0.45-M.Asensio",
          "0.51-Minteh",
          "0.55-Munetsi",
          "0.73-Tel"
         ]
        }
       }
      }
     },
     "metadata": {},
     "output_type": "display_data"
    }
   ],
   "source": [
    "\n",
    "\n",
    "\n",
    "######### Midfielders\n",
    "\n",
    "##### Returns Output 1 FixturesElementsAll\n",
    "FixturesElementsAll1 = pd.merge(FixturesConcat, Elements_Dim2Grouped2,left_on='OppTeam2', right_on='OppTeam', how='outer')\n",
    "\n",
    "FixturesElementsAll2 = pd.merge(grouped_dfLast4Weeks, FixturesElementsAll1,left_on='team', right_on='TeamID', how='outer')\n",
    "\n",
    "FixturesElementsAll3 =  pd.merge(DTDataframeAppend, FixturesElementsAll2,left_on='element', right_on='playerid', how='outer')\n",
    "\n",
    "FixturesElementsAll3['InCurrentTeam']= np.where(\n",
    "    FixturesElementsAll3['position'].notnull(),\n",
    "    1,\n",
    "    0\n",
    ")\n",
    "\n",
    "FixturesElementsAll3 =FixturesElementsAll3[FixturesElementsAll3['InCurrentTeam']!=1]\n",
    "\n",
    "FixturesElementsAll3['AttackOpp_pergame'] = FixturesElementsAll3['XGC_Weighted']*FixturesElementsAll3['expected_goal_involvements.gw']\n",
    "\n",
    "FixturesElementsAll3['DefenceOpp_pergame'] = FixturesElementsAll3['XGI_Weighted']*FixturesElementsAll3['expected_goals_conceded.gw']\n",
    "\n",
    "FixturesElementsAll3['xGIAvg_Player'] = FixturesElementsAll3['expected_goal_involvements.gw'].apply(lambda x: format(x, \".2f\")).astype(str) + '-' + FixturesElementsAll3['web_name']\n",
    "\n",
    "\n",
    "FixturesElementsAll2Att=FixturesElementsAll3[FixturesElementsAll3['element_type']==3]\n",
    "\n",
    "# Calculate total AttackOpp_pergame for each player\n",
    "FixturesElementsAll2Att = FixturesElementsAll2Att[FixturesElementsAll2Att['event']<UpcomingWeek+6]\n",
    "FixturesElementsAll2_totalsAtt = FixturesElementsAll2Att.groupby('web_name')['AttackOpp_pergame'].sum().reset_index()\n",
    "\n",
    "# Sort players by total AttackOpp_pergame and select top 20\n",
    "top_players = FixturesElementsAll2_totalsAtt.sort_values(by='AttackOpp_pergame', ascending=False).head(30)\n",
    "\n",
    "# Filter original DataFrame to include only top 20 players\n",
    "FixturesElementsAll2AttFiltered = FixturesElementsAll2Att[FixturesElementsAll3['web_name'].isin(top_players['web_name'])]\n",
    "\n",
    "\n",
    "# Pivot the DataFrame using pivot_table with an aggregation function\n",
    "heatmap_data = FixturesElementsAll2AttFiltered.pivot_table(\n",
    "    index='xGIAvg_Player',\n",
    "    columns='event',\n",
    "    values='XGC_Weighted',\n",
    "    aggfunc='mean'\n",
    ")\n",
    "text_data = FixturesElementsAll2AttFiltered.pivot_table(\n",
    "    index='xGIAvg_Player',\n",
    "    columns='event',\n",
    "    values='Teams.name',\n",
    "    aggfunc=lambda x: ' | '.join(x.astype(str))\n",
    ")\n",
    "current_team_data = FixturesElementsAll2AttFiltered.set_index('xGIAvg_Player')['InCurrentTeam'].to_dict()\n",
    "\n",
    "# Prepare custom tick labels for y-axis\n",
    "yaxis_tickvals = list(heatmap_data.index)\n",
    "yaxis_ticktext = [f'<b style=\"color:blue;\">{player}</b>' if current_team_data[player] > 0 else player for player in yaxis_tickvals]\n",
    "\n",
    "# Create the heatmap\n",
    "fig = go.Figure(data=go.Heatmap(\n",
    "    z=heatmap_data.values,\n",
    "    x=heatmap_data.columns,\n",
    "    y=yaxis_tickvals,\n",
    "    text=text_data.values,\n",
    "    texttemplate=\"%{text}\",\n",
    "    textfont={\"size\":8},\n",
    "    colorscale='reds'\n",
    "))\n",
    "\n",
    "# Update layout to leave more space for the y-axis\n",
    "fig.update_layout(\n",
    "    margin=dict(l=200, r=50, t=50, b=50),  # Increase left margin to make room for y-axis labels\n",
    "    yaxis=dict(\n",
    "        tickvals=yaxis_tickvals,\n",
    "        ticktext=yaxis_ticktext\n",
    "    )\n",
    ")\n",
    "\n",
    "fig.show()\n",
    "\n"
   ]
  },
  {
   "cell_type": "code",
   "execution_count": 46,
   "metadata": {},
   "outputs": [
    {
     "name": "stderr",
     "output_type": "stream",
     "text": [
      "C:\\Users\\james\\AppData\\Local\\Temp\\ipykernel_19300\\2806155751.py:35: UserWarning:\n",
      "\n",
      "Boolean Series key will be reindexed to match DataFrame index.\n",
      "\n"
     ]
    },
    {
     "data": {
      "application/vnd.plotly.v1+json": {
       "config": {
        "plotlyServerURL": "https://plot.ly"
       },
       "data": [
        {
         "colorscale": [
          [
           0,
           "rgb(255,245,240)"
          ],
          [
           0.125,
           "rgb(254,224,210)"
          ],
          [
           0.25,
           "rgb(252,187,161)"
          ],
          [
           0.375,
           "rgb(252,146,114)"
          ],
          [
           0.5,
           "rgb(251,106,74)"
          ],
          [
           0.625,
           "rgb(239,59,44)"
          ],
          [
           0.75,
           "rgb(203,24,29)"
          ],
          [
           0.875,
           "rgb(165,15,21)"
          ],
          [
           1,
           "rgb(103,0,13)"
          ]
         ],
         "text": [
          [
           "Aston Villa",
           "Man City",
           "Newcastle",
           "Southampton",
           null,
           "Everton",
           "Fulham"
          ],
          [
           null,
           "Aston Villa",
           "Southampton",
           "Leicester",
           "Arsenal",
           "Spurs",
           "Brentford"
          ],
          [
           null,
           "Man Utd",
           "Brentford",
           "Wolves",
           "West Ham",
           "Liverpool",
           "Arsenal"
          ],
          [
           null,
           "Everton",
           "Ipswich",
           "Arsenal",
           "Leicester",
           "Nott'm Forest",
           "Man City"
          ],
          [
           null,
           "Nott'm Forest",
           "Liverpool",
           "West Ham",
           null,
           "Brentford",
           "Leicester"
          ],
          [
           null,
           "Southampton",
           "Bournemouth",
           "Fulham",
           "Man City",
           "Aston Villa",
           "Crystal Palace"
          ],
          [
           null,
           "Wolves",
           "Brighton",
           "Spurs",
           "Brentford",
           "Ipswich",
           "West Ham"
          ],
          [
           null,
           "Ipswich",
           "Man City",
           "Bournemouth",
           "Fulham",
           "Chelsea",
           "Southampton"
          ],
          [
           null,
           "Man Utd",
           "Brentford",
           "Wolves",
           "West Ham",
           "Liverpool",
           "Arsenal"
          ],
          [
           null,
           "Leicester",
           "Everton",
           "Aston Villa",
           "Bournemouth",
           "Newcastle",
           "Chelsea"
          ],
          [
           null,
           "Southampton",
           "Bournemouth",
           "Fulham",
           "Man City",
           "Aston Villa",
           "Crystal Palace"
          ],
          [
           null,
           "Ipswich",
           "Man City",
           "Bournemouth",
           "Fulham",
           "Chelsea",
           "Southampton"
          ],
          [
           null,
           "Crystal Palace",
           "Wolves",
           "Brighton",
           "Spurs",
           "Arsenal",
           "Liverpool"
          ],
          [
           null,
           "Everton",
           "Ipswich",
           "Arsenal",
           "Leicester",
           "Nott'm Forest",
           "Man City"
          ],
          [
           null,
           "Liverpool",
           "Spurs",
           "Nott'm Forest",
           "Brighton",
           "Leicester",
           "Man Utd"
          ],
          [
           null,
           "Brighton",
           "Chelsea",
           "Liverpool",
           "Wolves",
           "Crystal Palace",
           "Spurs"
          ],
          [
           "Liverpool",
           "Chelsea",
           "Crystal Palace",
           "Brentford",
           null,
           "Brighton",
           "Nott'm Forest"
          ],
          [
           null,
           "Spurs",
           "Man Utd",
           "Crystal Palace",
           "Nott'm Forest",
           "Bournemouth",
           "Wolves"
          ],
          [
           null,
           "Arsenal",
           "Leicester",
           "Newcastle",
           "Everton",
           "Wolves",
           "Bournemouth"
          ],
          [
           null,
           "Ipswich",
           "Man City",
           "Bournemouth",
           "Fulham",
           "Chelsea",
           "Southampton"
          ],
          [
           null,
           "Brentford",
           "West Ham",
           "Chelsea",
           "Man Utd",
           "Man City",
           "Newcastle"
          ],
          [
           null,
           "Wolves",
           "Brighton",
           "Spurs",
           "Brentford",
           "Ipswich",
           "West Ham"
          ],
          [
           null,
           "Newcastle",
           "Arsenal",
           "Man City",
           "Ipswich",
           "Man Utd",
           "Aston Villa"
          ],
          [
           null,
           "Fulham",
           "Aston Villa",
           "Ipswich",
           null,
           "Southampton",
           "Brighton"
          ],
          [
           null,
           "Everton",
           "Ipswich",
           "Arsenal",
           "Leicester",
           "Nott'm Forest",
           "Man City"
          ],
          [
           null,
           "Bournemouth",
           "Fulham",
           "Everton",
           "Southampton",
           "West Ham",
           "Ipswich"
          ],
          [
           null,
           "Brighton",
           "Chelsea",
           "Liverpool",
           "Wolves",
           "Crystal Palace",
           "Spurs"
          ],
          [
           null,
           "Man Utd",
           "Brentford",
           "Wolves",
           "West Ham",
           "Liverpool",
           "Arsenal"
          ],
          [
           null,
           "West Ham",
           "Nott'm Forest",
           "Man Utd",
           "Chelsea",
           "Fulham",
           "Everton"
          ],
          [
           null,
           "Liverpool",
           "Spurs",
           "Nott'm Forest",
           "Brighton",
           "Leicester",
           "Man Utd"
          ]
         ],
         "textfont": {
          "size": 8
         },
         "texttemplate": "%{text}",
         "type": "heatmap",
         "x": [
          25,
          26,
          27,
          28,
          29,
          30,
          31
         ],
         "y": [
          "0.00-Danns",
          "0.00-Marc Guiu",
          "0.00-Maupay",
          "0.00-Obi",
          "0.00-Osula",
          "0.00-O’Mahony",
          "0.00-Rees-Dottin",
          "0.00-Scarlett",
          "0.00-Sherif",
          "0.00-Toney",
          "0.00-Undav",
          "0.00-Veliz",
          "0.00-Vinicius",
          "0.00-Wheatley",
          "0.01-Mubama",
          "0.02-Armstrong",
          "0.02-Duran",
          "0.04-Hirst",
          "0.04-Ings",
          "0.05-Solanke",
          "0.06-Daka",
          "0.07-Jebbison",
          "0.08-Awoniyi",
          "0.08-Nketiah",
          "0.12-Højlund",
          "0.14-Strand Larsen",
          "0.17-Onuachu",
          "0.29-Calvert-Lewin",
          "0.38-Havertz",
          "0.49-Marmoush"
         ],
         "z": [
          [
           1.73654130416,
           1.52276252352,
           2.42858263284,
           3.8147999999999995,
           null,
           1.7584406645759998,
           0.876029057104
          ],
          [
           null,
           1.73654130416,
           3.8147999999999995,
           3.0225999999999997,
           0.898801838828,
           2.167410023936,
           2.694661391216
          ],
          [
           null,
           2.527303401836,
           2.694661391216,
           2.755115630344,
           2.20504222016,
           1.39187298564,
           0.898801838828
          ],
          [
           null,
           1.7584406645759998,
           3.1654,
           0.898801838828,
           3.0225999999999997,
           2.5013491688080003,
           1.52276252352
          ],
          [
           null,
           2.5013491688080003,
           1.39187298564,
           2.20504222016,
           null,
           2.694661391216,
           3.0225999999999997
          ],
          [
           null,
           3.8147999999999995,
           2.57591730482,
           0.876029057104,
           1.52276252352,
           1.73654130416,
           1.88132509864
          ],
          [
           null,
           2.755115630344,
           1.8986269035599999,
           2.167410023936,
           2.694661391216,
           3.1654,
           2.20504222016
          ],
          [
           null,
           3.1654,
           1.52276252352,
           2.57591730482,
           0.876029057104,
           1.9606054765279999,
           3.8147999999999995
          ],
          [
           null,
           2.527303401836,
           2.694661391216,
           2.755115630344,
           2.20504222016,
           1.39187298564,
           0.898801838828
          ],
          [
           null,
           3.0225999999999997,
           1.7584406645759998,
           1.73654130416,
           2.57591730482,
           2.42858263284,
           1.9606054765279999
          ],
          [
           null,
           3.8147999999999995,
           2.57591730482,
           0.876029057104,
           1.52276252352,
           1.73654130416,
           1.88132509864
          ],
          [
           null,
           3.1654,
           1.52276252352,
           2.57591730482,
           0.876029057104,
           1.9606054765279999,
           3.8147999999999995
          ],
          [
           null,
           1.88132509864,
           2.755115630344,
           1.8986269035599999,
           2.167410023936,
           0.898801838828,
           1.39187298564
          ],
          [
           null,
           1.7584406645759998,
           3.1654,
           0.898801838828,
           3.0225999999999997,
           2.5013491688080003,
           1.52276252352
          ],
          [
           null,
           1.39187298564,
           2.167410023936,
           2.5013491688080003,
           1.8986269035599999,
           3.0225999999999997,
           2.527303401836
          ],
          [
           null,
           1.8986269035599999,
           1.9606054765279999,
           1.39187298564,
           2.755115630344,
           1.88132509864,
           2.167410023936
          ],
          [
           1.39187298564,
           1.9606054765279999,
           1.88132509864,
           2.694661391216,
           null,
           1.8986269035599999,
           2.5013491688080003
          ],
          [
           null,
           2.167410023936,
           2.527303401836,
           1.88132509864,
           2.5013491688080003,
           2.57591730482,
           2.755115630344
          ],
          [
           null,
           0.898801838828,
           3.0225999999999997,
           2.42858263284,
           1.7584406645759998,
           2.755115630344,
           2.57591730482
          ],
          [
           null,
           3.1654,
           1.52276252352,
           2.57591730482,
           0.876029057104,
           1.9606054765279999,
           3.8147999999999995
          ],
          [
           null,
           2.694661391216,
           2.20504222016,
           1.9606054765279999,
           2.527303401836,
           1.52276252352,
           2.42858263284
          ],
          [
           null,
           2.755115630344,
           1.8986269035599999,
           2.167410023936,
           2.694661391216,
           3.1654,
           2.20504222016
          ],
          [
           null,
           2.42858263284,
           0.898801838828,
           1.52276252352,
           3.1654,
           2.527303401836,
           1.73654130416
          ],
          [
           null,
           0.876029057104,
           1.73654130416,
           3.1654,
           null,
           3.8147999999999995,
           1.8986269035599999
          ],
          [
           null,
           1.7584406645759998,
           3.1654,
           0.898801838828,
           3.0225999999999997,
           2.5013491688080003,
           1.52276252352
          ],
          [
           null,
           2.57591730482,
           0.876029057104,
           1.7584406645759998,
           3.8147999999999995,
           2.20504222016,
           3.1654
          ],
          [
           null,
           1.8986269035599999,
           1.9606054765279999,
           1.39187298564,
           2.755115630344,
           1.88132509864,
           2.167410023936
          ],
          [
           null,
           2.527303401836,
           2.694661391216,
           2.755115630344,
           2.20504222016,
           1.39187298564,
           0.898801838828
          ],
          [
           null,
           2.20504222016,
           2.5013491688080003,
           2.527303401836,
           1.9606054765279999,
           0.876029057104,
           1.7584406645759998
          ],
          [
           null,
           1.39187298564,
           2.167410023936,
           2.5013491688080003,
           1.8986269035599999,
           3.0225999999999997,
           2.527303401836
          ]
         ]
        }
       ],
       "layout": {
        "margin": {
         "b": 50,
         "l": 200,
         "r": 50,
         "t": 50
        },
        "template": {
         "data": {
          "bar": [
           {
            "error_x": {
             "color": "#2a3f5f"
            },
            "error_y": {
             "color": "#2a3f5f"
            },
            "marker": {
             "line": {
              "color": "#E5ECF6",
              "width": 0.5
             },
             "pattern": {
              "fillmode": "overlay",
              "size": 10,
              "solidity": 0.2
             }
            },
            "type": "bar"
           }
          ],
          "barpolar": [
           {
            "marker": {
             "line": {
              "color": "#E5ECF6",
              "width": 0.5
             },
             "pattern": {
              "fillmode": "overlay",
              "size": 10,
              "solidity": 0.2
             }
            },
            "type": "barpolar"
           }
          ],
          "carpet": [
           {
            "aaxis": {
             "endlinecolor": "#2a3f5f",
             "gridcolor": "white",
             "linecolor": "white",
             "minorgridcolor": "white",
             "startlinecolor": "#2a3f5f"
            },
            "baxis": {
             "endlinecolor": "#2a3f5f",
             "gridcolor": "white",
             "linecolor": "white",
             "minorgridcolor": "white",
             "startlinecolor": "#2a3f5f"
            },
            "type": "carpet"
           }
          ],
          "choropleth": [
           {
            "colorbar": {
             "outlinewidth": 0,
             "ticks": ""
            },
            "type": "choropleth"
           }
          ],
          "contour": [
           {
            "colorbar": {
             "outlinewidth": 0,
             "ticks": ""
            },
            "colorscale": [
             [
              0,
              "#0d0887"
             ],
             [
              0.1111111111111111,
              "#46039f"
             ],
             [
              0.2222222222222222,
              "#7201a8"
             ],
             [
              0.3333333333333333,
              "#9c179e"
             ],
             [
              0.4444444444444444,
              "#bd3786"
             ],
             [
              0.5555555555555556,
              "#d8576b"
             ],
             [
              0.6666666666666666,
              "#ed7953"
             ],
             [
              0.7777777777777778,
              "#fb9f3a"
             ],
             [
              0.8888888888888888,
              "#fdca26"
             ],
             [
              1,
              "#f0f921"
             ]
            ],
            "type": "contour"
           }
          ],
          "contourcarpet": [
           {
            "colorbar": {
             "outlinewidth": 0,
             "ticks": ""
            },
            "type": "contourcarpet"
           }
          ],
          "heatmap": [
           {
            "colorbar": {
             "outlinewidth": 0,
             "ticks": ""
            },
            "colorscale": [
             [
              0,
              "#0d0887"
             ],
             [
              0.1111111111111111,
              "#46039f"
             ],
             [
              0.2222222222222222,
              "#7201a8"
             ],
             [
              0.3333333333333333,
              "#9c179e"
             ],
             [
              0.4444444444444444,
              "#bd3786"
             ],
             [
              0.5555555555555556,
              "#d8576b"
             ],
             [
              0.6666666666666666,
              "#ed7953"
             ],
             [
              0.7777777777777778,
              "#fb9f3a"
             ],
             [
              0.8888888888888888,
              "#fdca26"
             ],
             [
              1,
              "#f0f921"
             ]
            ],
            "type": "heatmap"
           }
          ],
          "heatmapgl": [
           {
            "colorbar": {
             "outlinewidth": 0,
             "ticks": ""
            },
            "colorscale": [
             [
              0,
              "#0d0887"
             ],
             [
              0.1111111111111111,
              "#46039f"
             ],
             [
              0.2222222222222222,
              "#7201a8"
             ],
             [
              0.3333333333333333,
              "#9c179e"
             ],
             [
              0.4444444444444444,
              "#bd3786"
             ],
             [
              0.5555555555555556,
              "#d8576b"
             ],
             [
              0.6666666666666666,
              "#ed7953"
             ],
             [
              0.7777777777777778,
              "#fb9f3a"
             ],
             [
              0.8888888888888888,
              "#fdca26"
             ],
             [
              1,
              "#f0f921"
             ]
            ],
            "type": "heatmapgl"
           }
          ],
          "histogram": [
           {
            "marker": {
             "pattern": {
              "fillmode": "overlay",
              "size": 10,
              "solidity": 0.2
             }
            },
            "type": "histogram"
           }
          ],
          "histogram2d": [
           {
            "colorbar": {
             "outlinewidth": 0,
             "ticks": ""
            },
            "colorscale": [
             [
              0,
              "#0d0887"
             ],
             [
              0.1111111111111111,
              "#46039f"
             ],
             [
              0.2222222222222222,
              "#7201a8"
             ],
             [
              0.3333333333333333,
              "#9c179e"
             ],
             [
              0.4444444444444444,
              "#bd3786"
             ],
             [
              0.5555555555555556,
              "#d8576b"
             ],
             [
              0.6666666666666666,
              "#ed7953"
             ],
             [
              0.7777777777777778,
              "#fb9f3a"
             ],
             [
              0.8888888888888888,
              "#fdca26"
             ],
             [
              1,
              "#f0f921"
             ]
            ],
            "type": "histogram2d"
           }
          ],
          "histogram2dcontour": [
           {
            "colorbar": {
             "outlinewidth": 0,
             "ticks": ""
            },
            "colorscale": [
             [
              0,
              "#0d0887"
             ],
             [
              0.1111111111111111,
              "#46039f"
             ],
             [
              0.2222222222222222,
              "#7201a8"
             ],
             [
              0.3333333333333333,
              "#9c179e"
             ],
             [
              0.4444444444444444,
              "#bd3786"
             ],
             [
              0.5555555555555556,
              "#d8576b"
             ],
             [
              0.6666666666666666,
              "#ed7953"
             ],
             [
              0.7777777777777778,
              "#fb9f3a"
             ],
             [
              0.8888888888888888,
              "#fdca26"
             ],
             [
              1,
              "#f0f921"
             ]
            ],
            "type": "histogram2dcontour"
           }
          ],
          "mesh3d": [
           {
            "colorbar": {
             "outlinewidth": 0,
             "ticks": ""
            },
            "type": "mesh3d"
           }
          ],
          "parcoords": [
           {
            "line": {
             "colorbar": {
              "outlinewidth": 0,
              "ticks": ""
             }
            },
            "type": "parcoords"
           }
          ],
          "pie": [
           {
            "automargin": true,
            "type": "pie"
           }
          ],
          "scatter": [
           {
            "fillpattern": {
             "fillmode": "overlay",
             "size": 10,
             "solidity": 0.2
            },
            "type": "scatter"
           }
          ],
          "scatter3d": [
           {
            "line": {
             "colorbar": {
              "outlinewidth": 0,
              "ticks": ""
             }
            },
            "marker": {
             "colorbar": {
              "outlinewidth": 0,
              "ticks": ""
             }
            },
            "type": "scatter3d"
           }
          ],
          "scattercarpet": [
           {
            "marker": {
             "colorbar": {
              "outlinewidth": 0,
              "ticks": ""
             }
            },
            "type": "scattercarpet"
           }
          ],
          "scattergeo": [
           {
            "marker": {
             "colorbar": {
              "outlinewidth": 0,
              "ticks": ""
             }
            },
            "type": "scattergeo"
           }
          ],
          "scattergl": [
           {
            "marker": {
             "colorbar": {
              "outlinewidth": 0,
              "ticks": ""
             }
            },
            "type": "scattergl"
           }
          ],
          "scattermapbox": [
           {
            "marker": {
             "colorbar": {
              "outlinewidth": 0,
              "ticks": ""
             }
            },
            "type": "scattermapbox"
           }
          ],
          "scatterpolar": [
           {
            "marker": {
             "colorbar": {
              "outlinewidth": 0,
              "ticks": ""
             }
            },
            "type": "scatterpolar"
           }
          ],
          "scatterpolargl": [
           {
            "marker": {
             "colorbar": {
              "outlinewidth": 0,
              "ticks": ""
             }
            },
            "type": "scatterpolargl"
           }
          ],
          "scatterternary": [
           {
            "marker": {
             "colorbar": {
              "outlinewidth": 0,
              "ticks": ""
             }
            },
            "type": "scatterternary"
           }
          ],
          "surface": [
           {
            "colorbar": {
             "outlinewidth": 0,
             "ticks": ""
            },
            "colorscale": [
             [
              0,
              "#0d0887"
             ],
             [
              0.1111111111111111,
              "#46039f"
             ],
             [
              0.2222222222222222,
              "#7201a8"
             ],
             [
              0.3333333333333333,
              "#9c179e"
             ],
             [
              0.4444444444444444,
              "#bd3786"
             ],
             [
              0.5555555555555556,
              "#d8576b"
             ],
             [
              0.6666666666666666,
              "#ed7953"
             ],
             [
              0.7777777777777778,
              "#fb9f3a"
             ],
             [
              0.8888888888888888,
              "#fdca26"
             ],
             [
              1,
              "#f0f921"
             ]
            ],
            "type": "surface"
           }
          ],
          "table": [
           {
            "cells": {
             "fill": {
              "color": "#EBF0F8"
             },
             "line": {
              "color": "white"
             }
            },
            "header": {
             "fill": {
              "color": "#C8D4E3"
             },
             "line": {
              "color": "white"
             }
            },
            "type": "table"
           }
          ]
         },
         "layout": {
          "annotationdefaults": {
           "arrowcolor": "#2a3f5f",
           "arrowhead": 0,
           "arrowwidth": 1
          },
          "autotypenumbers": "strict",
          "coloraxis": {
           "colorbar": {
            "outlinewidth": 0,
            "ticks": ""
           }
          },
          "colorscale": {
           "diverging": [
            [
             0,
             "#8e0152"
            ],
            [
             0.1,
             "#c51b7d"
            ],
            [
             0.2,
             "#de77ae"
            ],
            [
             0.3,
             "#f1b6da"
            ],
            [
             0.4,
             "#fde0ef"
            ],
            [
             0.5,
             "#f7f7f7"
            ],
            [
             0.6,
             "#e6f5d0"
            ],
            [
             0.7,
             "#b8e186"
            ],
            [
             0.8,
             "#7fbc41"
            ],
            [
             0.9,
             "#4d9221"
            ],
            [
             1,
             "#276419"
            ]
           ],
           "sequential": [
            [
             0,
             "#0d0887"
            ],
            [
             0.1111111111111111,
             "#46039f"
            ],
            [
             0.2222222222222222,
             "#7201a8"
            ],
            [
             0.3333333333333333,
             "#9c179e"
            ],
            [
             0.4444444444444444,
             "#bd3786"
            ],
            [
             0.5555555555555556,
             "#d8576b"
            ],
            [
             0.6666666666666666,
             "#ed7953"
            ],
            [
             0.7777777777777778,
             "#fb9f3a"
            ],
            [
             0.8888888888888888,
             "#fdca26"
            ],
            [
             1,
             "#f0f921"
            ]
           ],
           "sequentialminus": [
            [
             0,
             "#0d0887"
            ],
            [
             0.1111111111111111,
             "#46039f"
            ],
            [
             0.2222222222222222,
             "#7201a8"
            ],
            [
             0.3333333333333333,
             "#9c179e"
            ],
            [
             0.4444444444444444,
             "#bd3786"
            ],
            [
             0.5555555555555556,
             "#d8576b"
            ],
            [
             0.6666666666666666,
             "#ed7953"
            ],
            [
             0.7777777777777778,
             "#fb9f3a"
            ],
            [
             0.8888888888888888,
             "#fdca26"
            ],
            [
             1,
             "#f0f921"
            ]
           ]
          },
          "colorway": [
           "#636efa",
           "#EF553B",
           "#00cc96",
           "#ab63fa",
           "#FFA15A",
           "#19d3f3",
           "#FF6692",
           "#B6E880",
           "#FF97FF",
           "#FECB52"
          ],
          "font": {
           "color": "#2a3f5f"
          },
          "geo": {
           "bgcolor": "white",
           "lakecolor": "white",
           "landcolor": "#E5ECF6",
           "showlakes": true,
           "showland": true,
           "subunitcolor": "white"
          },
          "hoverlabel": {
           "align": "left"
          },
          "hovermode": "closest",
          "mapbox": {
           "style": "light"
          },
          "paper_bgcolor": "white",
          "plot_bgcolor": "#E5ECF6",
          "polar": {
           "angularaxis": {
            "gridcolor": "white",
            "linecolor": "white",
            "ticks": ""
           },
           "bgcolor": "#E5ECF6",
           "radialaxis": {
            "gridcolor": "white",
            "linecolor": "white",
            "ticks": ""
           }
          },
          "scene": {
           "xaxis": {
            "backgroundcolor": "#E5ECF6",
            "gridcolor": "white",
            "gridwidth": 2,
            "linecolor": "white",
            "showbackground": true,
            "ticks": "",
            "zerolinecolor": "white"
           },
           "yaxis": {
            "backgroundcolor": "#E5ECF6",
            "gridcolor": "white",
            "gridwidth": 2,
            "linecolor": "white",
            "showbackground": true,
            "ticks": "",
            "zerolinecolor": "white"
           },
           "zaxis": {
            "backgroundcolor": "#E5ECF6",
            "gridcolor": "white",
            "gridwidth": 2,
            "linecolor": "white",
            "showbackground": true,
            "ticks": "",
            "zerolinecolor": "white"
           }
          },
          "shapedefaults": {
           "line": {
            "color": "#2a3f5f"
           }
          },
          "ternary": {
           "aaxis": {
            "gridcolor": "white",
            "linecolor": "white",
            "ticks": ""
           },
           "baxis": {
            "gridcolor": "white",
            "linecolor": "white",
            "ticks": ""
           },
           "bgcolor": "#E5ECF6",
           "caxis": {
            "gridcolor": "white",
            "linecolor": "white",
            "ticks": ""
           }
          },
          "title": {
           "x": 0.05
          },
          "xaxis": {
           "automargin": true,
           "gridcolor": "white",
           "linecolor": "white",
           "ticks": "",
           "title": {
            "standoff": 15
           },
           "zerolinecolor": "white",
           "zerolinewidth": 2
          },
          "yaxis": {
           "automargin": true,
           "gridcolor": "white",
           "linecolor": "white",
           "ticks": "",
           "title": {
            "standoff": 15
           },
           "zerolinecolor": "white",
           "zerolinewidth": 2
          }
         }
        },
        "yaxis": {
         "ticktext": [
          "0.00-Danns",
          "0.00-Marc Guiu",
          "0.00-Maupay",
          "0.00-Obi",
          "0.00-Osula",
          "0.00-O’Mahony",
          "0.00-Rees-Dottin",
          "0.00-Scarlett",
          "0.00-Sherif",
          "0.00-Toney",
          "0.00-Undav",
          "0.00-Veliz",
          "0.00-Vinicius",
          "0.00-Wheatley",
          "0.01-Mubama",
          "0.02-Armstrong",
          "0.02-Duran",
          "0.04-Hirst",
          "0.04-Ings",
          "0.05-Solanke",
          "0.06-Daka",
          "0.07-Jebbison",
          "0.08-Awoniyi",
          "0.08-Nketiah",
          "0.12-Højlund",
          "0.14-Strand Larsen",
          "0.17-Onuachu",
          "0.29-Calvert-Lewin",
          "0.38-Havertz",
          "0.49-Marmoush"
         ],
         "tickvals": [
          "0.00-Danns",
          "0.00-Marc Guiu",
          "0.00-Maupay",
          "0.00-Obi",
          "0.00-Osula",
          "0.00-O’Mahony",
          "0.00-Rees-Dottin",
          "0.00-Scarlett",
          "0.00-Sherif",
          "0.00-Toney",
          "0.00-Undav",
          "0.00-Veliz",
          "0.00-Vinicius",
          "0.00-Wheatley",
          "0.01-Mubama",
          "0.02-Armstrong",
          "0.02-Duran",
          "0.04-Hirst",
          "0.04-Ings",
          "0.05-Solanke",
          "0.06-Daka",
          "0.07-Jebbison",
          "0.08-Awoniyi",
          "0.08-Nketiah",
          "0.12-Højlund",
          "0.14-Strand Larsen",
          "0.17-Onuachu",
          "0.29-Calvert-Lewin",
          "0.38-Havertz",
          "0.49-Marmoush"
         ]
        }
       }
      }
     },
     "metadata": {},
     "output_type": "display_data"
    }
   ],
   "source": [
    "\n",
    "\n",
    "\n",
    "######### Forwards\n",
    "\n",
    "##### Returns Output 1 FixturesElementsAll\n",
    "FixturesElementsAll1 = pd.merge(FixturesConcat, Elements_Dim2Grouped2,left_on='OppTeam2', right_on='OppTeam', how='outer')\n",
    "\n",
    "FixturesElementsAll2 = pd.merge(grouped_dfLast4Weeks, FixturesElementsAll1,left_on='team', right_on='TeamID', how='outer')\n",
    "\n",
    "FixturesElementsAll3 =  pd.merge(DTDataframeAppend, FixturesElementsAll2,left_on='element', right_on='playerid', how='outer')\n",
    "\n",
    "FixturesElementsAll3['InCurrentTeam']= np.where(\n",
    "    FixturesElementsAll3['position'].notnull(),\n",
    "    1,\n",
    "    0\n",
    ")\n",
    "\n",
    "FixturesElementsAll3 =FixturesElementsAll3[FixturesElementsAll3['InCurrentTeam']!=1]\n",
    "\n",
    "FixturesElementsAll3['AttackOpp_pergame'] = FixturesElementsAll3['XGC_Weighted']*FixturesElementsAll3['expected_goal_involvements.gw']\n",
    "\n",
    "FixturesElementsAll3['DefenceOpp_pergame'] = FixturesElementsAll3['XGI_Weighted']*FixturesElementsAll3['expected_goals_conceded.gw']\n",
    "\n",
    "FixturesElementsAll3['xGIAvg_Player'] = FixturesElementsAll3['expected_goal_involvements.gw'].apply(lambda x: format(x, \".2f\")).astype(str) + '-' + FixturesElementsAll3['web_name']\n",
    "\n",
    "\n",
    "FixturesElementsAll2Att=FixturesElementsAll3[FixturesElementsAll3['element_type']==4]\n",
    "\n",
    "# Calculate total AttackOpp_pergame for each player\n",
    "FixturesElementsAll2Att = FixturesElementsAll2Att[FixturesElementsAll2Att['event']<UpcomingWeek+6]\n",
    "FixturesElementsAll2_totalsAtt = FixturesElementsAll2Att.groupby('web_name')['AttackOpp_pergame'].sum().reset_index()\n",
    "\n",
    "# Sort players by total AttackOpp_pergame and select top 20\n",
    "top_players = FixturesElementsAll2_totalsAtt.sort_values(by='AttackOpp_pergame', ascending=False).head(30)\n",
    "\n",
    "# Filter original DataFrame to include only top 20 players\n",
    "FixturesElementsAll2AttFiltered = FixturesElementsAll2Att[FixturesElementsAll3['web_name'].isin(top_players['web_name'])]\n",
    "\n",
    "\n",
    "# Pivot the DataFrame using pivot_table with an aggregation function\n",
    "heatmap_data = FixturesElementsAll2AttFiltered.pivot_table(\n",
    "    index='xGIAvg_Player',\n",
    "    columns='event',\n",
    "    values='XGC_Weighted',\n",
    "    aggfunc='mean'\n",
    ")\n",
    "text_data = FixturesElementsAll2AttFiltered.pivot_table(\n",
    "    index='xGIAvg_Player',\n",
    "    columns='event',\n",
    "    values='Teams.name',\n",
    "    aggfunc=lambda x: ' | '.join(x.astype(str))\n",
    ")\n",
    "current_team_data = FixturesElementsAll2AttFiltered.set_index('xGIAvg_Player')['InCurrentTeam'].to_dict()\n",
    "\n",
    "# Prepare custom tick labels for y-axis\n",
    "yaxis_tickvals = list(heatmap_data.index)\n",
    "yaxis_ticktext = [f'<b style=\"color:blue;\">{player}</b>' if current_team_data[player] > 0 else player for player in yaxis_tickvals]\n",
    "\n",
    "# Create the heatmap\n",
    "fig = go.Figure(data=go.Heatmap(\n",
    "    z=heatmap_data.values,\n",
    "    x=heatmap_data.columns,\n",
    "    y=yaxis_tickvals,\n",
    "    text=text_data.values,\n",
    "    texttemplate=\"%{text}\",\n",
    "    textfont={\"size\":8},\n",
    "    colorscale='reds'\n",
    "))\n",
    "\n",
    "# Update layout to leave more space for the y-axis\n",
    "fig.update_layout(\n",
    "    margin=dict(l=200, r=50, t=50, b=50),  # Increase left margin to make room for y-axis labels\n",
    "    yaxis=dict(\n",
    "        tickvals=yaxis_tickvals,\n",
    "        ticktext=yaxis_ticktext\n",
    "    )\n",
    ")\n",
    "\n",
    "fig.show()\n",
    "\n"
   ]
  },
  {
   "cell_type": "code",
   "execution_count": null,
   "metadata": {},
   "outputs": [],
   "source": []
  }
 ],
 "metadata": {
  "kernelspec": {
   "display_name": "Python 3",
   "language": "python",
   "name": "python3"
  },
  "language_info": {
   "codemirror_mode": {
    "name": "ipython",
    "version": 3
   },
   "file_extension": ".py",
   "mimetype": "text/x-python",
   "name": "python",
   "nbconvert_exporter": "python",
   "pygments_lexer": "ipython3",
   "version": "3.10.10"
  }
 },
 "nbformat": 4,
 "nbformat_minor": 2
}
